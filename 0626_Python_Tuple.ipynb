{
  "nbformat": 4,
  "nbformat_minor": 0,
  "metadata": {
    "colab": {
      "provenance": [],
      "authorship_tag": "ABX9TyPrAM6c//9nevKJqKL8eSfJ",
      "include_colab_link": true
    },
    "kernelspec": {
      "name": "python3",
      "display_name": "Python 3"
    },
    "language_info": {
      "name": "python"
    }
  },
  "cells": [
    {
      "cell_type": "markdown",
      "metadata": {
        "id": "view-in-github",
        "colab_type": "text"
      },
      "source": [
        "<a href=\"https://colab.research.google.com/github/jiho01/Self-driving_AI/blob/main/0626_Python_Tuple.ipynb\" target=\"_parent\"><img src=\"https://colab.research.google.com/assets/colab-badge.svg\" alt=\"Open In Colab\"/></a>"
      ]
    },
    {
      "cell_type": "markdown",
      "source": [
        "*** 튜플 - 데이터 값들을 하나로 묶어놓은 \"데이터의 묶음\" ***\n",
        "\n",
        "---\n",
        "\n"
      ],
      "metadata": {
        "id": "VBfN4-7lGPvP"
      }
    },
    {
      "cell_type": "markdown",
      "source": [
        "1. Tuple Unpacking 기본 - 자율주행 예제\n",
        "\n",
        "---\n",
        "\n"
      ],
      "metadata": {
        "id": "Eul8588GJ-oe"
      }
    },
    {
      "cell_type": "code",
      "execution_count": 12,
      "metadata": {
        "colab": {
          "base_uri": "https://localhost:8080/"
        },
        "id": "hwk_6NznFYCf",
        "outputId": "38d9cc5c-20fa-48f7-9533-c896f628564d"
      },
      "outputs": [
        {
          "output_type": "stream",
          "name": "stdout",
          "text": [
            "1. 기본 좌표 언패킹\n",
            "차량 위치: 경도 127.5, 위도 37.5\n",
            "\n",
            "2. 센서 데이터 언패킹\n",
            "라이다 감지: 8.5m, 45도\n",
            "\n",
            "3. 속도와 방향 언패킹\n",
            "차량 운동: 60km/h, 270도 방향\n",
            "\n",
            "4. 교차로 신호등 정보 언패킹\n",
            "신호등: 빨강, 15초 남음\n",
            "\n",
            "5. 주차 공간 정보 언패킹\n",
            "주차공간: 길이 4.8, 폭 2.3, 사용가능여부 True\n",
            "\n",
            "6. 배터리 상태 언패킹\n",
            "배터리: 85%, 320km 주행가능, 상태: nomal\n"
          ]
        }
      ],
      "source": [
        "#1. 기본 좌표 언패킹\n",
        "print(\"1. 기본 좌표 언패킹\")\n",
        "\n",
        "vehicle_position = (127.5, 37.5) #경도, 위도\n",
        "longitude, latitude = vehicle_position\n",
        "print(f\"차량 위치: 경도 {longitude}, 위도 {latitude}\")\n",
        "\n",
        "#2. 센서 데이터 언패킹\n",
        "print(\"\\n2. 센서 데이터 언패킹\")\n",
        "\n",
        "lidar_data = (8.5, 45) #거리, 각도\n",
        "distance, angle = lidar_data\n",
        "print(f\"라이다 감지: {distance}m, {angle}도\")\n",
        "\n",
        "#3. 속도와 방향 언패킹\n",
        "print(\"\\n3. 속도와 방향 언패킹\")\n",
        "\n",
        "motion_data = (60, 270) #속도, 방향\n",
        "speed, direction = motion_data\n",
        "print(f\"차량 운동: {speed}km/h, {direction}도 방향\")\n",
        "\n",
        "#4. 교차로 신호등 정보 언패킹\n",
        "print(\"\\n4. 교차로 신호등 정보 언패킹\")\n",
        "\n",
        "traffic_signal = ('빨강', 15) #색상, 남은시간\n",
        "color, time_left = traffic_signal\n",
        "print(f\"신호등: {color}, {time_left}초 남음\")\n",
        "\n",
        "#5. 주차 공간 정보 언패킹\n",
        "print(\"\\n5. 주차 공간 정보 언패킹\")\n",
        "\n",
        "parking_spot = (4.8, 2.3, True) #길이, 폭, 사용가능여부\n",
        "length, width, available = parking_spot\n",
        "print(f\"주차공간: 길이 {length}, 폭 {width}, 사용가능여부 {available}\")\n",
        "\n",
        "#6. 배터리 상태 언패킹\n",
        "print(\"\\n6. 배터리 상태 언패킹\")\n",
        "\n",
        "battery_info = (85, 320, 'nomal') #잔량, 주행가능거리, 상태\n",
        "charge_level, remaining_range, battery_status = battery_info\n",
        "print(f\"배터리: {charge_level}%, {remaining_range}km 주행가능, 상태: {battery_status}\")"
      ]
    },
    {
      "cell_type": "markdown",
      "source": [
        "2. Tuple Unpacking + 리스트 조합\n",
        "\n",
        "---\n",
        "\n"
      ],
      "metadata": {
        "id": "VEAuyJYlNl1J"
      }
    },
    {
      "cell_type": "code",
      "source": [
        "#여러 센서 데이터를 리스트로 관리\n",
        "sensor_readings = [\n",
        "    (8.5, 45, 'lidar'),\n",
        "    (12.3, 0, 'camera'),\n",
        "    (15.7, -30, 'radar'),\n",
        "    (2.1, 90, 'ultrasonic')\n",
        "]\n",
        "\n",
        "print(\"센서별 감지 정보:\")\n",
        "for sensor_data in sensor_readings:\n",
        "  dist, ang, sensor_type = sensor_data\n",
        "  print(f\"{sensor_type}: {dist}m, {ang}도\")\n",
        "\n",
        "#위험 센서 찾기(5m 이내)\n",
        "print(\"\\n위험 감지 센서:\")\n",
        "for sensor_data in sensor_readings:\n",
        "  dist, ang, sensor_type = sensor_data\n",
        "  if dist < 5.0:\n",
        "    print(f\"{sensor_type}: {dist}m (위험)\")"
      ],
      "metadata": {
        "colab": {
          "base_uri": "https://localhost:8080/"
        },
        "id": "fcYEO74fKssy",
        "outputId": "a5d9e161-bed0-4612-b5ee-fe00f88c5fd5"
      },
      "execution_count": 15,
      "outputs": [
        {
          "output_type": "stream",
          "name": "stdout",
          "text": [
            "센서별 감지 정보:\n",
            "lidar: 8.5m, 45도\n",
            "camera: 12.3m, 0도\n",
            "radar: 15.7m, -30도\n",
            "ultrasonic: 2.1m, 90도\n",
            "\n",
            "위험 감지 센서:\n",
            "ultrasonic: 2.1m (위험)\n"
          ]
        }
      ]
    },
    {
      "cell_type": "code",
      "source": [
        "#경로 포인트들을 리스트로 관리\n",
        "waypoints = [\n",
        "    (0, 0, '출발지'),\n",
        "    (5, 3, '경유지1'),\n",
        "    (10, 8, '경유지2'),\n",
        "    (15, 12, '목적지')\n",
        "]\n",
        "\n",
        "print(\"\\n경로 계획:\")\n",
        "for point in waypoints:\n",
        "  x, y, name = point\n",
        "  print(f\"{name}: ({x}, {y})\")\n",
        "\n",
        "#교차로 정보들\n",
        "intersections = [\n",
        "    ('서울역', 'green', 25),\n",
        "    ('시청', 'red', 40),\n",
        "    ('종로3가', 'yellow', 5),\n",
        "    ('을지로', 'green', 15)\n",
        "]\n",
        "\n",
        "print(\"\\n교차로 신호등 현황\")\n",
        "for intersection in intersections:\n",
        "  name, signal_color, remaining_time = intersection\n",
        "  print(f\"{name}: {signal_color} ({remaining_time}초)\")"
      ],
      "metadata": {
        "colab": {
          "base_uri": "https://localhost:8080/"
        },
        "id": "32JRaay9OS9I",
        "outputId": "197326c8-5e07-47ef-aece-d9cf29b4fc59"
      },
      "execution_count": 17,
      "outputs": [
        {
          "output_type": "stream",
          "name": "stdout",
          "text": [
            "\n",
            "경로 계획:\n",
            "출발지: (0, 0)\n",
            "경유지1: (5, 3)\n",
            "경유지2: (10, 8)\n",
            "목적지: (15, 12)\n",
            "\n",
            "교차로 신호등 현황\n",
            "서울역: green (25초)\n",
            "시청: red (40초)\n",
            "종로3가: yellow (5초)\n",
            "을지로: green (15초)\n"
          ]
        }
      ]
    },
    {
      "cell_type": "markdown",
      "source": [
        "3. Tuple Unpacking + 딕셔너리 조합\n",
        "\n",
        "---\n",
        "\n"
      ],
      "metadata": {
        "id": "1-9HjjPkQgmH"
      }
    },
    {
      "cell_type": "code",
      "source": [
        "# 차량별 위치 정보를 딕셔너리로 관리\n",
        "vehicle_locations = {\n",
        "    'car_001': (127.1, 37.5, 60),    # 경도, 위도, 속도\n",
        "    'car_002': (127.2, 37.6, 45),\n",
        "    'car_003': (127.3, 37.4, 80),\n",
        "    'truck_001': (127.0, 37.3, 70)\n",
        "}\n",
        "\n",
        "print(\"차량별 현재 위치:\")\n",
        "for vehicle_id, location_data in vehicle_locations.items():\n",
        "  lon, lat, spd = location_data  # tuple unpacking\n",
        "  print(f\"{vehicle_id}: ({lon}, {lat}), {spd}km/h\")\n",
        "\n",
        "#for 충전소 정보를 딕셔너리로 관리\n",
        "charging_stations = {\n",
        "    '강남충전소': (127.027, 37.498, 5, 2),    # 경도, 위도, 총슬롯, 사용중슬롯\n",
        "    '서초충전소': (127.032, 37.483, 8, 6),\n",
        "    '송파충전소': (127.105, 37.514, 6, 1)\n",
        "}\n",
        "\n",
        "print(\"\\n충전소 현황:\")\n",
        "for station_name, station_info in charging_stations.items():\n",
        "    lon, lat, total_slots, used_slots = station_info\n",
        "    available = total_slots - used_slots\n",
        "    print(f\"{station_name}: 위치({lon}, {lat}), 사용가능 {available}/{total_slots}슬롯\")\n",
        "\n",
        "# 주차장 구역별 정보\n",
        "parking_areas = {\n",
        "    'A구역': (50, 45, 'compact'),     # 총자리, 사용중, 차량크기\n",
        "    'B구역': (30, 30, 'standard'),\n",
        "    'C구역': (20, 15, 'large'),\n",
        "    'D구역': (15, 8, 'handicapped')\n",
        "}\n",
        "\n",
        "print(\"\\n주차장 현황:\")\n",
        "for area_name, area_info in parking_areas.items():\n",
        "    total, occupied, car_type = area_info\n",
        "    available = total - occupied\n",
        "    utilization = round((occupied / total) * 100, 1)\n",
        "    print(f\"{area_name} ({car_type}): {available}/{total}자리 사용가능 (사용률 {utilization}%)\")\n"
      ],
      "metadata": {
        "colab": {
          "base_uri": "https://localhost:8080/"
        },
        "id": "WmSHoLaGQBO_",
        "outputId": "d2b7808a-8622-4d9d-917e-0d89b3848cb7"
      },
      "execution_count": 20,
      "outputs": [
        {
          "output_type": "stream",
          "name": "stdout",
          "text": [
            "차량별 현재 위치:\n",
            "car_001: (127.1, 37.5), 60km/h\n",
            "car_002: (127.2, 37.6), 45km/h\n",
            "car_003: (127.3, 37.4), 80km/h\n",
            "truck_001: (127.0, 37.3), 70km/h\n",
            "\n",
            "충전소 현황:\n",
            "강남충전소: 위치(127.027, 37.498), 사용가능 3/5슬롯\n",
            "서초충전소: 위치(127.032, 37.483), 사용가능 2/8슬롯\n",
            "송파충전소: 위치(127.105, 37.514), 사용가능 5/6슬롯\n",
            "\n",
            "주차장 현황:\n",
            "A구역 (compact): 5/50자리 사용가능 (사용률 90.0%)\n",
            "B구역 (standard): 0/30자리 사용가능 (사용률 100.0%)\n",
            "C구역 (large): 5/20자리 사용가능 (사용률 75.0%)\n",
            "D구역 (handicapped): 7/15자리 사용가능 (사용률 53.3%)\n"
          ]
        }
      ]
    },
    {
      "cell_type": "markdown",
      "source": [
        "4. 실전 응용 - 종합 교통 관제 시스템\n",
        "\n",
        "---\n",
        "\n"
      ],
      "metadata": {
        "id": "kEronEyLQnHT"
      }
    },
    {
      "cell_type": "code",
      "source": [
        "# 실시간 교통 데이터 (시간, 위치, 속도, 차량타입, 차선)\n",
        "traffic_data = [\n",
        "    ('09:15', (127.1, 37.5), 45, 'sedan', 1),\n",
        "    ('09:16', (127.2, 37.6), 60, 'truck', 2),\n",
        "    ('09:17', (127.3, 37.4), 30, 'bus', 1),\n",
        "    ('09:18', (127.0, 37.3), 80, 'sedan', 3)\n",
        "]\n",
        "\n",
        "print(\"실시간 교통 모니터링:\")\n",
        "for data in traffic_data:\n",
        "    time, position, speed, vehicle_type, lane = data\n",
        "    lon, lat = position  # 중첩 tuple unpacking\n",
        "    print(f\"{time} | {vehicle_type} | ({lon}, {lat}) | {speed}km/h | {lane}차선\")\n",
        "\n",
        "# 사고 신고 데이터 (시간, 위치, 심각도, 처리상태)\n",
        "accident_reports = [\n",
        "    ('10:30', (127.15, 37.55), 'minor', False),\n",
        "    ('10:45', (127.25, 37.65), 'major', True),\n",
        "    ('11:00', (127.35, 37.45), 'minor', False)\n",
        "]\n",
        "\n",
        "print(\"\\n사고 신고 현황:\")\n",
        "for report in accident_reports:\n",
        "    time, location, severity, handled = report\n",
        "    lon, lat = location\n",
        "    status = \"처리완료\" if handled else \"처리중\"\n",
        "    print(f\"{time} | ({lon}, {lat}) | {severity} | {status}\")\n",
        "\n",
        "# 미처리 사고만 필터링\n",
        "print(\"\\n미처리 사고:\")\n",
        "for report in accident_reports:\n",
        "    time, location, severity, handled = report\n",
        "    if not handled:\n",
        "        lon, lat = location\n",
        "        print(f\"{time} | ({lon}, {lat}) | {severity} - 즉시 처리 필요\")\n",
        "\n",
        "# 날씨별 권장 주행 조건 (날씨, 최대속도, 안전거리배수, 라이트사용)\n",
        "weather_conditions = [\n",
        "    ('맑음', 100, 1.0, False),\n",
        "    ('비', 80, 1.5, True),\n",
        "    ('눈', 60, 2.0, True),\n",
        "    ('안개', 50, 2.5, True)\n",
        "]\n",
        "\n",
        "current_weather = '비'  # 현재 날씨 설정\n",
        "\n",
        "print(f\"\\n현재 날씨: {current_weather}\")\n",
        "print(\"권장 주행 조건:\")\n",
        "for condition in weather_conditions:\n",
        "    weather, max_speed, distance_factor, lights_on = condition\n",
        "    if weather == current_weather:\n",
        "        print(f\"최대속도: {max_speed}km/h\")\n",
        "        print(f\"안전거리: 평소의 {distance_factor}배\")\n",
        "        print(f\"라이트 사용: {'필수' if lights_on else '선택'}\")\n",
        "        break\n",
        "\n",
        "# 차량 상태 진단 결과 (차량ID, 엔진상태점수, 브레이크상태점수, 종합판정)\n",
        "vehicle_diagnostics = {\n",
        "    'EV001': (95, 88, 'excellent'),\n",
        "    'EV002': (82, 75, 'good'),\n",
        "    'EV003': (65, 45, 'caution'),\n",
        "    'EV004': (45, 30, 'maintenance')\n",
        "}\n",
        "\n",
        "print(\"\\n차량 상태 진단:\")\n",
        "for vehicle_id, diagnosis in vehicle_diagnostics.items():\n",
        "    engine_score, brake_score, overall_status = diagnosis\n",
        "    avg_score = (engine_score + brake_score) / 2\n",
        "    print(f\"{vehicle_id}: 엔진 {engine_score}점, 브레이크 {brake_score}점, 평균 {avg_score:.1f}점 ({overall_status})\")\n",
        "\n",
        "# 정비 필요 차량 필터링\n",
        "print(\"\\n정비 필요 차량:\")\n",
        "for vehicle_id, diagnosis in vehicle_diagnostics.items():\n",
        "    engine_score, brake_score, overall_status = diagnosis\n",
        "    if overall_status in ['caution', 'maintenance']:\n",
        "        print(f\"{vehicle_id}: {overall_status} - 점검 필요\")"
      ],
      "metadata": {
        "colab": {
          "base_uri": "https://localhost:8080/"
        },
        "id": "89CDcLJMQneu",
        "outputId": "14c645e1-3e85-4042-cd44-6925177f337f"
      },
      "execution_count": 23,
      "outputs": [
        {
          "output_type": "stream",
          "name": "stdout",
          "text": [
            "실시간 교통 모니터링:\n",
            "09:15 | sedan | (127.1, 37.5) | 45km/h | 1차선\n",
            "09:16 | truck | (127.2, 37.6) | 60km/h | 2차선\n",
            "09:17 | bus | (127.3, 37.4) | 30km/h | 1차선\n",
            "09:18 | sedan | (127.0, 37.3) | 80km/h | 3차선\n",
            "\n",
            "사고 신고 현황:\n",
            "10:30 | (127.15, 37.55) | minor | 처리중\n",
            "10:45 | (127.25, 37.65) | major | 처리완료\n",
            "11:00 | (127.35, 37.45) | minor | 처리중\n",
            "\n",
            "미처리 사고:\n",
            "10:30 | (127.15, 37.55) | minor - 즉시 처리 필요\n",
            "11:00 | (127.35, 37.45) | minor - 즉시 처리 필요\n",
            "\n",
            "현재 날씨: 비\n",
            "권장 주행 조건:\n",
            "최대속도: 80km/h\n",
            "안전거리: 평소의 1.5배\n",
            "라이트 사용: 필수\n",
            "\n",
            "차량 상태 진단:\n",
            "EV001: 엔진 95점, 브레이크 88점, 평균 91.5점 (excellent)\n",
            "EV002: 엔진 82점, 브레이크 75점, 평균 78.5점 (good)\n",
            "EV003: 엔진 65점, 브레이크 45점, 평균 55.0점 (caution)\n",
            "EV004: 엔진 45점, 브레이크 30점, 평균 37.5점 (maintenance)\n",
            "\n",
            "정비 필요 차량:\n",
            "EV003: caution - 점검 필요\n",
            "EV004: maintenance - 점검 필요\n"
          ]
        }
      ]
    },
    {
      "cell_type": "markdown",
      "source": [
        "*** 과제 ***\n",
        "\n",
        "---\n",
        "\n"
      ],
      "metadata": {
        "id": "p0YV2oQBRtKy"
      }
    },
    {
      "cell_type": "markdown",
      "source": [
        "1. 스마트 교차로 관리 시스템\n",
        "\n",
        "---\n",
        "\n"
      ],
      "metadata": {
        "id": "ciuhajTERzN6"
      }
    },
    {
      "cell_type": "code",
      "source": [
        "#교차로별 실시간 데이터 (리스트 + 튜플)\n",
        "intersecionts = [\n",
        "    ('서울역앞', 'red', 25, 12),\n",
        "    ('시청앞', 'green', 15, 8),\n",
        "    ('종로3가', 'yellow', 3, 15),\n",
        "    ('을기로입구', 'red', 40, 5)\n",
        "]\n",
        "\n",
        "#처리된 교차로를 추적하는 셋\n",
        "processed_intersections = set()\n",
        "\n",
        "#교차로별 상세 정보 딕셔너리\n",
        "interseciont_details = {\n",
        "    '서울역앞': {'priority': 'high', 'camera_working': True},\n",
        "    '시청앞'\n",
        "}"
      ],
      "metadata": {
        "id": "P4DEjfhGRmke"
      },
      "execution_count": null,
      "outputs": []
    }
  ]
}