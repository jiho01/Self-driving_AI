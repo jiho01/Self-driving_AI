{
  "nbformat": 4,
  "nbformat_minor": 0,
  "metadata": {
    "colab": {
      "provenance": [],
      "authorship_tag": "ABX9TyPvQxm51A3JfiIT7dU/sHmn",
      "include_colab_link": true
    },
    "kernelspec": {
      "name": "python3",
      "display_name": "Python 3"
    },
    "language_info": {
      "name": "python"
    }
  },
  "cells": [
    {
      "cell_type": "markdown",
      "metadata": {
        "id": "view-in-github",
        "colab_type": "text"
      },
      "source": [
        "<a href=\"https://colab.research.google.com/github/jiho01/Self-driving_AI/blob/main/0627_Python_Dictionary.ipynb\" target=\"_parent\"><img src=\"https://colab.research.google.com/assets/colab-badge.svg\" alt=\"Open In Colab\"/></a>"
      ]
    },
    {
      "cell_type": "markdown",
      "source": [
        "*** dictionary comprehension - 딕셔너리 생성 및 변환 ***\n",
        "\n",
        "---\n",
        "\n"
      ],
      "metadata": {
        "id": "KULb-9D52vjd"
      }
    },
    {
      "cell_type": "markdown",
      "source": [
        "1. 센서 데이터 : 각 센서별 감지 거리 저장\n",
        "\n",
        "---\n",
        "\n"
      ],
      "metadata": {
        "id": "fPR-oA3k27qD"
      }
    },
    {
      "cell_type": "code",
      "source": [
        "sensor_data = {}\n",
        "\n",
        "sensor_data['camera'] = 8.5\n",
        "\n",
        "sensor_data['lidar'] = 12.3\n",
        "\n",
        "print(sensor_data)"
      ],
      "metadata": {
        "colab": {
          "base_uri": "https://localhost:8080/"
        },
        "id": "VEhT_9Fr25O3",
        "outputId": "46897d0f-b458-4d93-e248-d0282c927394"
      },
      "execution_count": 7,
      "outputs": [
        {
          "output_type": "stream",
          "name": "stdout",
          "text": [
            "{'camera': 8.5, 'lidar': 12.3}\n"
          ]
        }
      ]
    },
    {
      "cell_type": "markdown",
      "source": [
        "2. 경로 계획: 목적지별 거리 정보 관리\n",
        "\n",
        "---\n",
        "\n"
      ],
      "metadata": {
        "id": "UUFL_GoU3MM-"
      }
    },
    {
      "cell_type": "code",
      "source": [
        "destinations = ['집', '회사', '마트', '주유소']\n",
        "distances_km = [0, 15, 8, 12]\n",
        "\n",
        "route_plan = {}\n",
        "route_plan['집'] = 0\n",
        "route_plan['회사'] = 15\n",
        "route_plan['마트'] = 8\n",
        "route_plan['주유소'] = 12\n",
        "\n",
        "print(\"목적지별 거리:\", route_plan)"
      ],
      "metadata": {
        "colab": {
          "base_uri": "https://localhost:8080/"
        },
        "id": "xUlQ43Io3KtX",
        "outputId": "5396a6d3-ea74-4b49-d9f1-1c9e59ea4178"
      },
      "execution_count": 8,
      "outputs": [
        {
          "output_type": "stream",
          "name": "stdout",
          "text": [
            "목적지별 거리: {'집': 0, '회사': 15, '마트': 8, '주유소': 12}\n"
          ]
        }
      ]
    },
    {
      "cell_type": "markdown",
      "source": [
        "3. 차량 점검: 부품별 상태 확인\n",
        "\n",
        "---\n",
        "\n"
      ],
      "metadata": {
        "id": "l0tpRTqw3qqj"
      }
    },
    {
      "cell_type": "code",
      "source": [
        "vehicle_parts = ['엔진', '브레이크', '타이어', '배터리']\n",
        "status_codes = ['정상', '정상', '교체필요', '정상']\n",
        "\n",
        "vehicle_status = {}\n",
        "vehicle_status['엔진'] = '정상'\n",
        "vehicle_status['브레이크'] = '정상'\n",
        "vehicle_status['타이어'] = '교체필요'\n",
        "vehicle_status['배터리'] = '정상'\n",
        "\n",
        "print(\"차량 상태:\", vehicle_status)"
      ],
      "metadata": {
        "colab": {
          "base_uri": "https://localhost:8080/"
        },
        "id": "5BWX5Ile3tam",
        "outputId": "0151dc02-98a0-4757-d03e-6436f8893772"
      },
      "execution_count": 9,
      "outputs": [
        {
          "output_type": "stream",
          "name": "stdout",
          "text": [
            "차량 상태: {'엔진': '정상', '브레이크': '정상', '타이어': '교체필요', '배터리': '정상'}\n"
          ]
        }
      ]
    },
    {
      "cell_type": "markdown",
      "source": [
        "4. 신호등: 교차로별 현재 신호 상태\n",
        "\n",
        "---\n",
        "\n"
      ],
      "metadata": {
        "id": "pYCwl4Sf3wHU"
      }
    },
    {
      "cell_type": "code",
      "source": [
        "intersections = ['서울역', '강남역', '홍대입구']\n",
        "light_colors = ['빨강', '초록', '노랑']\n",
        "\n",
        "traffic_lights = {}\n",
        "traffic_lights['서울역'] = '빨강'\n",
        "traffic_lights['강남역'] = '초록'\n",
        "traffic_lights['홍대입구'] = '노랑'\n",
        "\n",
        "print(\"교차로 신호등:\", traffic_lights)"
      ],
      "metadata": {
        "colab": {
          "base_uri": "https://localhost:8080/"
        },
        "id": "Dt6loZLb3vUV",
        "outputId": "18e02639-bba7-444b-d0f8-e0e851780624"
      },
      "execution_count": 10,
      "outputs": [
        {
          "output_type": "stream",
          "name": "stdout",
          "text": [
            "교차로 신호등: {'서울역': '빨강', '강남역': '초록', '홍대입구': '노랑'}\n"
          ]
        }
      ]
    },
    {
      "cell_type": "markdown",
      "source": [],
      "metadata": {
        "id": "dqo4ZTe03v51"
      }
    },
    {
      "cell_type": "markdown",
      "source": [
        "5. 주차장: 구역별 빈자리 개수\n",
        "\n",
        "---\n",
        "\n"
      ],
      "metadata": {
        "id": "wiU45bi230bK"
      }
    },
    {
      "cell_type": "code",
      "source": [
        "parking_zones = ['A구역', 'B구역', 'C구역', 'D구역']\n",
        "empty_spots = [5, 0, 12, 3]\n",
        "\n",
        "parking_info = {}\n",
        "parking_info['A구역'] = 5\n",
        "parking_info['B구역'] = 0\n",
        "parking_info['C구역'] = 12\n",
        "parking_info['D구역'] = 3\n",
        "\n",
        "print(\"주차장 빈자리:\", parking_info)\n"
      ],
      "metadata": {
        "colab": {
          "base_uri": "https://localhost:8080/"
        },
        "id": "Tmq5tYQf31jW",
        "outputId": "040dbf28-7748-41ba-eb5f-62c45f32a017"
      },
      "execution_count": 11,
      "outputs": [
        {
          "output_type": "stream",
          "name": "stdout",
          "text": [
            "주차장 빈자리: {'A구역': 5, 'B구역': 0, 'C구역': 12, 'D구역': 3}\n"
          ]
        }
      ]
    },
    {
      "cell_type": "markdown",
      "source": [
        "6. 속도 제한: 도로 종류별 제한속도\n",
        "\n",
        "---\n",
        "\n"
      ],
      "metadata": {
        "id": "RQQk1f1g34uq"
      }
    },
    {
      "cell_type": "code",
      "source": [
        "road_sections = ['시내도로', '국도', '고속도로', '스쿨존']\n",
        "speed_limits = [50, 70, 100, 30]\n",
        "\n",
        "speed_zones = {}\n",
        "speed_zones['시내도로'] = 50\n",
        "speed_zones['국도'] = 70\n",
        "speed_zones['고속도로'] = 100\n",
        "speed_zones['스쿨존'] = 30\n",
        "\n",
        "print(\"구간별 제한속도:\", speed_zones)"
      ],
      "metadata": {
        "colab": {
          "base_uri": "https://localhost:8080/"
        },
        "id": "6QcL4KtY34lB",
        "outputId": "1e461673-df4f-4bb0-f7ca-4a51ef8125f9"
      },
      "execution_count": 12,
      "outputs": [
        {
          "output_type": "stream",
          "name": "stdout",
          "text": [
            "구간별 제한속도: {'시내도로': 50, '국도': 70, '고속도로': 100, '스쿨존': 30}\n"
          ]
        }
      ]
    },
    {
      "cell_type": "markdown",
      "source": [
        "7. 주유소: 각 주유소까지의 거리\n",
        "\n",
        "---\n",
        "\n"
      ],
      "metadata": {
        "id": "D-wcf0C834By"
      }
    },
    {
      "cell_type": "code",
      "source": [
        "station_names = ['GS칼텍스', '현대오일뱅크', '테슬라충전소', 'SK에너지']\n",
        "distances_to_stations = [2.5, 5.8, 1.2, 4.3]\n",
        "\n",
        "fuel_stations = {}\n",
        "fuel_stations['GS칼텍스'] = 2.5\n",
        "fuel_stations['현대오일뱅크'] = 5.8\n",
        "fuel_stations['테슬라충전소'] = 1.2\n",
        "fuel_stations['SK에너지'] = 4.3\n",
        "\n",
        "print(\"주유소까지 거리:\", fuel_stations)"
      ],
      "metadata": {
        "colab": {
          "base_uri": "https://localhost:8080/"
        },
        "id": "ciu-SfKo3_kO",
        "outputId": "e71b0fd0-c329-4d07-cd98-d831082c2d92"
      },
      "execution_count": 13,
      "outputs": [
        {
          "output_type": "stream",
          "name": "stdout",
          "text": [
            "주유소까지 거리: {'GS칼텍스': 2.5, '현대오일뱅크': 5.8, '테슬라충전소': 1.2, 'SK에너지': 4.3}\n"
          ]
        }
      ]
    },
    {
      "cell_type": "markdown",
      "source": [
        "8. 날씨 대응: 날씨에 따른 주행 모드\n",
        "\n",
        "---\n",
        "\n"
      ],
      "metadata": {
        "id": "2vCG-zQn4BIA"
      }
    },
    {
      "cell_type": "code",
      "source": [
        "weather_conditions = ['맑음', '비', '눈', '안개']\n",
        "drive_modes = ['일반', '주의', '서행', '서행']\n",
        "\n",
        "weather_driving = {}\n",
        "weather_driving['맑음'] = '일반'\n",
        "weather_driving['비'] = '주의'\n",
        "weather_driving['눈'] = '서행'\n",
        "weather_driving['안개'] = '서행'\n",
        "\n",
        "print(\"날씨별 주행모드:\", weather_driving)"
      ],
      "metadata": {
        "colab": {
          "base_uri": "https://localhost:8080/"
        },
        "id": "Zmjo9ZEs4Ayl",
        "outputId": "57fe12fa-44b4-427e-f26e-64f1988021c2"
      },
      "execution_count": 14,
      "outputs": [
        {
          "output_type": "stream",
          "name": "stdout",
          "text": [
            "날씨별 주행모드: {'맑음': '일반', '비': '주의', '눈': '서행', '안개': '서행'}\n"
          ]
        }
      ]
    },
    {
      "cell_type": "markdown",
      "source": [
        "9. 간단한 데이터 조회 예제\n",
        "\n",
        "\n",
        "---\n",
        "\n"
      ],
      "metadata": {
        "id": "Dv1iIHnl4Frj"
      }
    },
    {
      "cell_type": "code",
      "source": [
        "print(\"\\n=== 데이터 조회 예제 ===\")\n",
        "print(\"라이다 센서 거리:\", sensor_data['lidar'], \"미터\")\n",
        "print(\"회사까지 거리:\", route_plan['회사'], \"km\")\n",
        "print(\"타이어 상태:\", vehicle_status['타이어'])\n",
        "print(\"강남역 신호등:\", traffic_lights['강남역'])\n",
        "print(\"C구역 빈자리:\", parking_info['C구역'], \"개\")\n",
        "print(\"고속도로 제한속도:\", speed_zones['고속도로'], \"km/h\")\n",
        "print(\"가장 가까운 충전소:\", \"테슬라충전소\", fuel_stations['테슬라충전소'], \"km\")\n",
        "print(\"비올 때 주행모드:\", weather_driving['비'])"
      ],
      "metadata": {
        "colab": {
          "base_uri": "https://localhost:8080/"
        },
        "id": "6rTYkgAx4HWo",
        "outputId": "ec06d4de-3026-408a-a793-f95ea2fd2d7b"
      },
      "execution_count": 15,
      "outputs": [
        {
          "output_type": "stream",
          "name": "stdout",
          "text": [
            "\n",
            "=== 데이터 조회 예제 ===\n",
            "라이다 센서 거리: 12.3 미터\n",
            "회사까지 거리: 15 km\n",
            "타이어 상태: 교체필요\n",
            "강남역 신호등: 초록\n",
            "C구역 빈자리: 12 개\n",
            "고속도로 제한속도: 100 km/h\n",
            "가장 가까운 충전소: 테슬라충전소 1.2 km\n",
            "비올 때 주행모드: 주의\n"
          ]
        }
      ]
    },
    {
      "cell_type": "markdown",
      "source": [
        "*** 과제 ***\n",
        "\n",
        "\n",
        "---\n",
        "\n"
      ],
      "metadata": {
        "id": "Akf2GEKd4UOY"
      }
    },
    {
      "cell_type": "markdown",
      "source": [
        "1. 스마트 신호등 타이밍 최적화\n",
        "\n",
        "---\n",
        "\n"
      ],
      "metadata": {
        "id": "cYA5BOCA4nc3"
      }
    },
    {
      "cell_type": "code",
      "source": [
        "# 교차로별 대기 차량 수\n",
        "intersections = ['서울역앞', '시청앞', '종로3가', '을지로입구']\n",
        "waiting_cars = [12, 8, 15, 5]\n",
        "\n",
        "# 현재 신호등 상태와 남은 시간\n",
        "traffic_signals = {}\n",
        "traffic_signals['서울역앞'] = {'color': '빨강', 'waiting': 12, 'time_left': 30}\n",
        "traffic_signals['시청앞'] = {'color': '초록', 'waiting': 8, 'time_left': 10}\n",
        "traffic_signals['종로3가'] = {'color': '빨강', 'waiting': 15, 'time_left': 25}\n",
        "traffic_signals['을지로입구'] = {'color': '노랑', 'waiting': 5, 'time_left': 5}\n",
        "\n",
        "print(\"현재 교차로 상황:\")\n",
        "for intersection in intersections:\n",
        "    signal = traffic_signals[intersection]\n",
        "    print(f\"{intersection}: {signal['color']} {signal['time_left']}초, 대기차량 {signal['waiting']}대\")\n",
        "\n",
        "# 우선순위 교차로 선정 (대기차량 10대 이상이면 우선처리)\n",
        "print(\"\\n우선처리 필요 교차로:\")\n",
        "for intersection in intersections:\n",
        "    if traffic_signals[intersection]['waiting'] >= 10:\n",
        "        print(f\"{intersection}: 대기차량 {traffic_signals[intersection]['waiting']}대\")\n"
      ],
      "metadata": {
        "colab": {
          "base_uri": "https://localhost:8080/"
        },
        "id": "Fv6V1Aw34T_C",
        "outputId": "2e0e0fa7-ac5c-4f18-88c5-a0cb0a01f5b6"
      },
      "execution_count": 20,
      "outputs": [
        {
          "output_type": "stream",
          "name": "stdout",
          "text": [
            "현재 교차로 상황:\n",
            "서울역앞: 빨강 30초, 대기차량 12대\n",
            "시청앞: 초록 10초, 대기차량 8대\n",
            "종로3가: 빨강 25초, 대기차량 15대\n",
            "을지로입구: 노랑 5초, 대기차량 5대\n",
            "\n",
            "우선처리 필요 교차로:\n",
            "서울역앞: 대기차량 12대\n",
            "종로3가: 대기차량 15대\n"
          ]
        }
      ]
    },
    {
      "cell_type": "markdown",
      "source": [
        "2. 자동 발렛파킹 시스템\n",
        "\n",
        "---\n",
        "\n"
      ],
      "metadata": {
        "id": "nXEjcA-f7q2R"
      }
    },
    {
      "cell_type": "code",
      "source": [
        "#차량 크기별 분류\n",
        "vehicle_sizees = ['소형', '중형', '대형', 'SUV']\n",
        "size_counts = [15, 20, 8, 12]\n",
        "\n",
        "#주차공간 크기별 현황\n",
        "parking_spaces = {}\n",
        "parking_spaces['소형전용'] = {'total': 30, 'occupied': 15, 'size_limit': '소형'}\n",
        "parking_spaces['중형전용'] = {'total': 40, 'occupied': 28, 'size_limit': '중형'}\n",
        "parking_spaces['대형전용'] = {'total': 15, 'occupied': 8, 'size_limit': '대형'}\n",
        "parking_spaces['SUV전용'] = {'total': 20, 'occupied': 12, 'size_limit': 'SUV'}\n",
        "\n",
        "print(\"주차공간 현황:\")\n",
        "for space_type in parking_spaces:\n",
        "  space = parking_spaces[space_type]\n",
        "  available = space[\"total\"] - space['occupied']\n",
        "  print(f\"{space_type}: {available}/{space['total']}가능({space['size_limit']})전용\")\n",
        "\n",
        "#신규 차량 주차 시물레이션\n",
        "new_vehicle = 'SUV'\n",
        "print(f\"\\n신규 {new_vehicle} 차량 주차 요청\")"
      ],
      "metadata": {
        "colab": {
          "base_uri": "https://localhost:8080/"
        },
        "id": "kySPFBfe6Mdz",
        "outputId": "4e67bf0a-8068-4483-ce48-eb27d54a030c"
      },
      "execution_count": 23,
      "outputs": [
        {
          "output_type": "stream",
          "name": "stdout",
          "text": [
            "주차공간 현황:\n",
            "소형전용: 15/30가능(소형)전용\n",
            "중형전용: 12/40가능(중형)전용\n",
            "대형전용: 7/15가능(대형)전용\n",
            "SUV전용: 8/20가능(SUV)전용\n",
            "\n",
            "신규 SUV 차량 주차 요청\n"
          ]
        }
      ]
    },
    {
      "cell_type": "markdown",
      "source": [
        "3. 차량 군집주행 관리 시스템\n",
        "\n",
        "---\n",
        "\n"
      ],
      "metadata": {
        "id": "azNhNRE2A4XR"
      }
    },
    {
      "cell_type": "code",
      "source": [
        "# 군집주행 그룹 정보\n",
        "convoy_groups = ['그룹A', '그룹B', '그룹C']\n",
        "group_vehicles = [[3, 4, 2], [5, 6, 8], [2, 3]]  # 각 그룹의 차량 수\n",
        "\n",
        "# 각 그룹별 상세 정보\n",
        "convoy_info = {}\n",
        "convoy_info['그룹A'] = {'vehicles': 3, 'leader_speed': 80, 'formation': '일렬'}\n",
        "convoy_info['그룹B'] = {'vehicles': 5, 'leader_speed': 70, 'formation': '삼각'}\n",
        "convoy_info['그룹C'] = {'vehicles': 2, 'leader_speed': 90, 'formation': '병렬'}\n",
        "\n",
        "print(\"군집주행 현황:\")\n",
        "for group in convoy_groups:\n",
        "    info = convoy_info[group]\n",
        "    print(f\"{group}: {info['vehicles']}대, 속도 {info['leader_speed']}km/h, {info['formation']}대형\")\n",
        "\n",
        "# 안전 속도 권장 (5대 이상이면 속도 제한)\n",
        "print(\"\\n안전 권장사항:\")\n",
        "for group in convoy_groups:\n",
        "    info = convoy_info[group]\n",
        "    if info['vehicles'] >= 5:\n",
        "        recommended_speed = 60\n",
        "        print(f\"{group}: 차량 {info['vehicles']}대로 인해 {recommended_speed}km/h 이하 권장\")\n",
        "\n",
        "# 적합한 주차공간 찾기\n",
        "suitable_spaces = []\n",
        "for space_type in parking_spaces:\n",
        "    space = parking_spaces[space_type]\n",
        "    available = space['total'] - space['occupied']\n",
        "    if space['size_limit'] == new_vehicle and available > 0:\n",
        "        suitable_spaces.append(space_type)\n",
        "\n",
        "if suitable_spaces:\n",
        "    print(f\"{suitable_spaces[0]}에 주차 가능\")\n",
        "else:\n",
        "    print(\"적합한 주차공간 없음\")\n"
      ],
      "metadata": {
        "colab": {
          "base_uri": "https://localhost:8080/"
        },
        "id": "6t429ljK9axX",
        "outputId": "805a1203-ee49-4491-e26f-96a6f27f4307"
      },
      "execution_count": 26,
      "outputs": [
        {
          "output_type": "stream",
          "name": "stdout",
          "text": [
            "군집주행 현황:\n",
            "그룹A: 3대, 속도 80km/h, 일렬대형\n",
            "그룹B: 5대, 속도 70km/h, 삼각대형\n",
            "그룹C: 2대, 속도 90km/h, 병렬대형\n",
            "\n",
            "안전 권장사항:\n",
            "그룹B: 차량 5대로 인해 60km/h 이하 권장\n",
            "SUV전용에 주차 가능\n"
          ]
        }
      ]
    },
    {
      "cell_type": "markdown",
      "source": [
        "4. 도로 위험도 평가 및 경고 시스템\n",
        "\n",
        "---\n",
        "\n"
      ],
      "metadata": {
        "id": "Q6OkDVOcBomx"
      }
    },
    {
      "cell_type": "code",
      "source": [
        "# 긴급 충전 필요 차량 (배터리 30% 이하)\n",
        "print(\"\\n긴급 충전 필요:\")\n",
        "urgent_vehicles = []\n",
        "for vehicle in urgent_vehicles:\n",
        "    if ev_status[vehicle]['battery'] <= 30:\n",
        "        urgent_vehicles.append(vehicle)\n",
        "        print(f\"🔋 {vehicle}: {ev_status[vehicle]['battery']}% - 즉시 충전 필요\")\n",
        "\n",
        "# 충전소 예약 시스템\n",
        "charging_stations = {}\n",
        "charging_stations['강남충전소'] = {'slots': 5, 'reserved': 2, 'fast_charge': True}\n",
        "charging_stations['서초충전소'] = {'slots': 3, 'reserved': 1, 'fast_charge': False}\n",
        "charging_stations['종로충전소'] = {'slots': 4, 'reserved': 4, 'fast_charge': True}\n",
        "\n",
        "print(\"\\n충전소 예약 현황:\")\n",
        "for station in charging_stations:\n",
        "    info = charging_stations[station]\n",
        "    available = info['slots'] - info['reserved']\n",
        "    charge_type = \"급속\" if info['fast_charge'] else \"완속\"\n",
        "    print(f\"{station}: {available}/{info['slots']} 이용가능 ({charge_type})\")\n"
      ],
      "metadata": {
        "colab": {
          "base_uri": "https://localhost:8080/"
        },
        "id": "WnLSIkSrBYMF",
        "outputId": "f35b2239-7c82-444f-d6ef-95e826a2df01"
      },
      "execution_count": 29,
      "outputs": [
        {
          "output_type": "stream",
          "name": "stdout",
          "text": [
            "\n",
            "긴급 충전 필요:\n",
            "\n",
            "충전소 예약 현황:\n",
            "강남충전소: 3/5 이용가능 (급속)\n",
            "서초충전소: 2/3 이용가능 (완속)\n",
            "종로충전소: 0/4 이용가능 (급속)\n"
          ]
        }
      ]
    },
    {
      "cell_type": "markdown",
      "source": [
        "5. 도로 위험도 평가 및 경고 시스템\n",
        "\n",
        "---\n",
        "\n"
      ],
      "metadata": {
        "id": "vJOIO8-cCERg"
      }
    },
    {
      "cell_type": "code",
      "source": [
        "# 도로 구간별 위험 요소\n",
        "road_segments = ['구간A', '구간B', '구간C', '구간D']\n",
        "road_conditions = [\n",
        "    {'rain': True, 'fog': False, 'construction': False, 'accident': False},\n",
        "    {'rain': False, 'fog': True, 'construction': True, 'accident': False},\n",
        "    {'rain': True, 'fog': False, 'construction': False, 'accident': True},\n",
        "    {'rain': False, 'fog': False, 'construction': False, 'accident': False}\n",
        "]"
      ],
      "metadata": {
        "id": "-iHSqlSdBw3G"
      },
      "execution_count": 31,
      "outputs": []
    },
    {
      "cell_type": "markdown",
      "source": [
        "6. 승객 승하차 최적화 시스템\n",
        "\n",
        "---\n",
        "\n"
      ],
      "metadata": {
        "id": "fKfJvsvyCMmO"
      }
    },
    {
      "cell_type": "code",
      "source": [
        "# ===== 과제 6: 승객 승하차 최적화 시스템 =====\n",
        "print(\"\\n=== 과제 6: 승객 승하차 최적화 시스템 ===\")\n",
        "\n",
        "# 버스 정류장별 대기 승객\n",
        "\n",
        "bus_stops = ['정류장1', '정류장2', '정류장3', '정류장4', '정류장5']\n",
        "waiting_passengers = [8, 3, 12, 6, 15]\n",
        "\n",
        "# 정류장별 상세 정보\n",
        "stop_info = {}\n",
        "stop_info['정류장1'] = {'waiting': 8, 'getting_off': 5, 'shelter': True}\n",
        "stop_info['정류장2'] = {'waiting': 3, 'getting_off': 2, 'shelter': False}\n",
        "stop_info['정류장3'] = {'waiting': 12, 'getting_off': 8, 'shelter': True}\n",
        "stop_info['정류장4'] = {'waiting': 6, 'getting_off': 3, 'shelter': False}\n",
        "stop_info['정류장5'] = {'waiting': 15, 'getting_off': 10, 'shelter': True}\n",
        "\n",
        "print(\"정류장별 승객 현황:\")\n",
        "\n",
        "for stop in bus_stops:\n",
        "    info = stop_info[stop]\n",
        "    shelter_status = \"있음\" if info['shelter'] else \"없음\"\n",
        "    print(f\"{stop}: 대기 {info['waiting']}명, 하차 {info['getting_off']}명 (차양막 {shelter_status})\")\n",
        "\n",
        "# 우선정차 정류장 (대기승객 10명 이상)\n",
        "print(\"\\n우선정차 권장 정류장:\")\n",
        "for stop in bus_stops:\n",
        "    if stop_info[stop]['waiting'] >= 10:\n",
        "        info = stop_info[stop]\n",
        "        print(f\"{stop}: 대기승객 {info['waiting']}명\")\n",
        "\n",
        "\n",
        "# 현재 버스 용량 시뮬레이션\n",
        "bus_capacity = 40\n",
        "current_passengers = 25\n",
        "\n",
        "print(f\"\\n현재 버스 상황: {current_passengers}/{bus_capacity}명 탑승 중\")\n",
        "\n",
        "for stop in bus_stops:\n",
        "    info = stop_info[stop]\n",
        "    after_getting_off = current_passengers - info['getting_off']\n",
        "    after_boarding = after_getting_off + info['waiting']\n",
        "\n",
        "    if after_boarding > bus_capacity:\n",
        "        can_board = bus_capacity - after_getting_off\n",
        "        print(f\"{stop}: {info['waiting']}명 중 {can_board}명만 탑승 가능 (포화상태)\")\n",
        "    else:\n",
        "        print(f\"{stop}: 전원 탑승 가능\")\n",
        "\n",
        "    # 다음 정류장으로 이동\n",
        "    current_passengers = min(after_boarding, bus_capacity)"
      ],
      "metadata": {
        "colab": {
          "base_uri": "https://localhost:8080/"
        },
        "id": "n3zshceMCSEp",
        "outputId": "586e3de4-7fa7-4671-a465-53b54a8ebcbe"
      },
      "execution_count": 33,
      "outputs": [
        {
          "output_type": "stream",
          "name": "stdout",
          "text": [
            "\n",
            "=== 과제 6: 승객 승하차 최적화 시스템 ===\n",
            "정류장별 승객 현황:\n",
            "정류장1: 대기 8명, 하차 5명 (차양막 있음)\n",
            "정류장2: 대기 3명, 하차 2명 (차양막 없음)\n",
            "정류장3: 대기 12명, 하차 8명 (차양막 있음)\n",
            "정류장4: 대기 6명, 하차 3명 (차양막 없음)\n",
            "정류장5: 대기 15명, 하차 10명 (차양막 있음)\n",
            "\n",
            "우선정차 권장 정류장:\n",
            "정류장3: 대기승객 12명\n",
            "정류장5: 대기승객 15명\n",
            "\n",
            "현재 버스 상황: 25/40명 탑승 중\n",
            "정류장1: 전원 탑승 가능\n",
            "정류장2: 전원 탑승 가능\n",
            "정류장3: 전원 탑승 가능\n",
            "정류장4: 전원 탑승 가능\n",
            "정류장5: 15명 중 14명만 탑승 가능 (포화상태)\n"
          ]
        }
      ]
    }
  ]
}