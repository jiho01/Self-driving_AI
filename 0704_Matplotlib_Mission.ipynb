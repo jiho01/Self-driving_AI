{
  "nbformat": 4,
  "nbformat_minor": 0,
  "metadata": {
    "colab": {
      "provenance": [],
      "collapsed_sections": [
        "V2MNxobZ6JPW",
        "QvHOP_9h9Pb1"
      ],
      "authorship_tag": "ABX9TyM57+ds5ucX4Cjuj37SX4rb",
      "include_colab_link": true
    },
    "kernelspec": {
      "name": "python3",
      "display_name": "Python 3"
    },
    "language_info": {
      "name": "python"
    }
  },
  "cells": [
    {
      "cell_type": "markdown",
      "metadata": {
        "id": "view-in-github",
        "colab_type": "text"
      },
      "source": [
        "<a href=\"https://colab.research.google.com/github/jiho01/Self-driving_AI/blob/main/0704_Matplotlib_Mission.ipynb\" target=\"_parent\"><img src=\"https://colab.research.google.com/assets/colab-badge.svg\" alt=\"Open In Colab\"/></a>"
      ]
    },
    {
      "cell_type": "markdown",
      "source": [
        "# Misson 1"
      ],
      "metadata": {
        "id": "TzfW1vZu6DbK"
      }
    },
    {
      "cell_type": "code",
      "execution_count": null,
      "metadata": {
        "id": "WXZFKiRe4ITv"
      },
      "outputs": [],
      "source": [
        "import matplotlib.pyplot as plt\n",
        "\n",
        "def setup_basic_plot(step_num=1, action='forward'):\n",
        "    # 3*3 크기의 플롯과 축 생성\n",
        "    fig, ax = plt.subplots(figsize=(3, 3))\n",
        "\n",
        "    #x, y축 설정\n",
        "    ax.set_xlim(-1, 8)\n",
        "    ax.set_ylim(-1, 12)\n",
        "\n",
        "    #타이틀과 라벨 성정\n",
        "    ax.set_title(f\"Step_{step_num} : {action}\", fontsize=15)\n",
        "    ax.set_xlabel(\"X_axis\", fontsize=15)\n",
        "    ax.set_ylabel(\"Y_axis\", fontsize=15)\n",
        "\n",
        "    #레이아웃 자동조절\n",
        "    plt.tight_layout()\n",
        "    return ax\n"
      ]
    },
    {
      "cell_type": "code",
      "source": [
        "if __name__ == \"__main__\":\n",
        "  ax = setup_basic_plot(5, \"turn_left\")\n",
        "  plt.show()"
      ],
      "metadata": {
        "colab": {
          "base_uri": "https://localhost:8080/",
          "height": 306
        },
        "id": "hSE8k8qY5FbZ",
        "outputId": "677e3348-fbb2-4684-c219-36a7ff0d81b9"
      },
      "execution_count": null,
      "outputs": [
        {
          "output_type": "display_data",
          "data": {
            "text/plain": [
              "<Figure size 300x300 with 1 Axes>"
            ],
            "image/png": "[encoded data removed]"
          },
          "metadata": {}
        }
      ]
    },
    {
      "cell_type": "markdown",
      "source": [
        "#📝 Mission 2: 목표선 그리기 함수 만들기\n",
        "\n"
      ],
      "metadata": {
        "id": "V2MNxobZ6JPW"
      }
    },
    {
      "cell_type": "markdown",
      "source": [
        "🎯 조건:\n",
        "- import matplotlib.pyplot as plt\n",
        "1. 함수 정의: def draw_goal_line(obstacles):\n",
        "  - 매개변수: obstacles (장애물들의 집합/리스트)\n",
        "2. 캔버스 설정:\n",
        "  - 크기: figsize=(8, 6)\n",
        "  - 축 범위: X(-1, 8), Y(-1, 12)\n",
        "  - 격자: grid(True, alpha=0.3)\n",
        "3. 표선 계산:\n",
        "  - 가장 높은 장애물의 Y좌표 찾기\n",
        "  - 목표선 = 최대 Y좌표 + 3\n",
        "  - 장애물이 없으면 Y=0 기준\n",
        "4. 목표선 그리기:\n",
        "  - 초록색 수평선 (color='lime')\n",
        "  - 선 두께: linewidth=3\n",
        "  - 투명도: alpha=0.7\n",
        "5. 텍스트 표시:\n",
        "  - 위치: (7, goal_y + 0.2)\n",
        "  - 내용: f-string으로 \"GOAL (y={goal_y})\" 표시\n",
        "  - 색상: 초록색\n",
        "6. 완성 요소:\n",
        "  - 범례 표시 (ax.legend())\n",
        "  - 레이아웃 최적화\n",
        "  - 화면 출력\n",
        "  - goal_y 값 반환\n",
        "7. 실행:\n",
        "  - obstacles = {(3, 2), (3, 3), (2, 4), (4, 5)} 사용\n",
        "  - 함수 호출해서 결과 확인\n",
        "\n",
        "💡 힌트:\n",
        "- ax.axhline(): 수평선 그리기\n",
        "-max() 함수와 조건부 표현식 활용\n",
        "-ax.text()의 ha, va 매개변수 사용"
      ],
      "metadata": {
        "id": "KydpS2sVOqJZ"
      }
    },
    {
      "cell_type": "code",
      "source": [
        "import matplotlib.pyplot as plt\n",
        "\n",
        "def draw_goal_line(obstacles):\n",
        "\n",
        "    # 캔버스 설정\n",
        "    fig, ax = plt.subplots(figsize=(8, 6))\n",
        "    ax.set_xlim(-1, 8)\n",
        "    ax.set_ylim(-1, 12)\n",
        "    ax.grid(True, alpha=0.3)\n",
        "\n",
        "    # 목표선 계산     - y좌표가 가장 큰 장애물 찾아서 + 3 없으면 0 기준\n",
        "    max_y = max(y for _, y in obstacles) if obstacles else 0\n",
        "    goal_y = max_y + 3\n",
        "\n",
        "    # 목표선 그리기   - 초록색 수평선(lime), 선 두께(3), 투명도(0.7)\n",
        "    ax.axhline(y=goal_y, color='lime', linewidth=3, alpha=0.7, label='Goal Line')\n",
        "\n",
        "    # 텍스트 표시     - 위치(7, goal_y + 2)\n",
        "    ax.text(7, goal_y + 0.2, f\"GOAL (y={goal_y})\", color='lime', ha='right', va='bottom')\n",
        "\n",
        "    # 완성 요소\n",
        "    ax.legend()\n",
        "    plt.tight_layout()\n",
        "    plt.show()\n",
        "\n",
        "    return goal_y"
      ],
      "metadata": {
        "id": "D51x2aZT6Twc"
      },
      "execution_count": null,
      "outputs": []
    },
    {
      "cell_type": "code",
      "source": [
        "obstacles = {(3, 2), (3, 3), (2, 4), (4, 5)}\n",
        "goal_y = draw_goal_line(obstacles)\n",
        "print(f\"goal_y: {goal_y}\")"
      ],
      "metadata": {
        "colab": {
          "base_uri": "https://localhost:8080/",
          "height": 624
        },
        "id": "POkk9aNY-qge",
        "outputId": "e6bcc03a-1f5b-45cc-b7b7-7f2b078e5cf4"
      },
      "execution_count": null,
      "outputs": [
        {
          "output_type": "display_data",
          "data": {
            "text/plain": [
              "<Figure size 800x600 with 1 Axes>"
            ],
            "image/png": "[encoded data removed]"
          },
          "metadata": {}
        },
        {
          "output_type": "stream",
          "name": "stdout",
          "text": [
            "goal_y: 8\n"
          ]
        }
      ]
    },
    {
      "cell_type": "markdown",
      "source": [
        "#📝 Mission 3 : 장애물 그리기 함수 만들기\n"
      ],
      "metadata": {
        "id": "QvHOP_9h9Pb1"
      }
    },
    {
      "cell_type": "markdown",
      "source": [
        "🎯 조건:\n",
        "- import matplotlib.pyplot as plt\n",
        "- from matplotlib.patches import Rectangle\n",
        "1. 함수 정의: def draw_obstacles(obstacles):\n",
        "  - 매개변수: obstacles (장애물 위치들의 set 또는 list)\n",
        "2. 캔버스 설정:\n",
        "  - 크기: figsize=(8, 6)\n",
        "  - 축 범위:\n",
        "    - ax.set_xlim(-1, 8)   # X축 범위: -1 ~ 8\n",
        "    - ax.set_ylim(-1, 12)  # Y축 범위: -1 ~ 12\n",
        "  - 정사각형 비율: set_aspect('equal')\n",
        "  - 격자와 라벨 설정\n",
        "3. 데이터 처리:\n",
        "  - set을 list로 변환하여 순서 보장\n",
        "  - isinstance() 함수로 타입 확인\n",
        "4. 장애물 그리기:\n",
        "  - 빨간색 사각형 (color='red', alpha=0.7)\n",
        "  - 크기: 0.8 x 0.8\n",
        "  - 중심 좌표에서 0.4씩 빼서 위치 조정\n",
        "  - Rectangle 패치 사용\n",
        "5. 텍스트 표시:\n",
        "  - 각 장애물 중앙에 번호 (흰색, 굵은 글씨)\n",
        "  - enumerate() 함수로 번호 매기기\n",
        "6. 완성 요소:\n",
        "  - 범례 표시 (첫 번째 장애물에만 라벨)\n",
        "  - 콘솔에 정보 출력\n",
        "  - 레이아웃 최적화\n",
        "7. 실행:\n",
        "  - obstacles = {(3, 2), (3, 3), (2, 4), (4, 5)} 사용\n",
        "\n",
        "💡 핵심 힌트:\n",
        "- Rectangle((x-0.4, y-0.4), 0.8, 0.8): 사각형 생성\n",
        "- ax.add_patch(rect): 사각형을 그래프에 추가\n",
        "- enumerate(): 인덱스와 값을 동시에 가져오기\n",
        "- isinstance(obstacles, set): 타입 확인"
      ],
      "metadata": {
        "id": "6KOau1X1Omyf"
      }
    },
    {
      "cell_type": "code",
      "source": [
        "import matplotlib.pyplot as plt\n",
        "from matplotlib.patches import Rectangle\n",
        "\n",
        "def draw_obstacles(obstacles):\n",
        "\n",
        "  #캔버스 설정\n",
        "  fig, ax = plt.subplots(figsize=(8, 6))\n",
        "  ax.set_xlim(-1, 8)\n",
        "  ax.set_ylim(-1, 12)\n",
        "  ax.set_aspect('equal')\n",
        "  ax.grid(True, alpha=0.3)\n",
        "\n",
        "  # 데이터 처리\n",
        "  if isinstance(obstacles, set):\n",
        "      obs_list = list(obstacles)\n",
        "  else:\n",
        "      obs_list = obstacles\n",
        "\n",
        "    # 장애물 그리기\n",
        "  for idx, (x, y) in enumerate(obs_list, start=1):\n",
        "      # 빨간 사각형 생성: 중심에서 0.4씩 빼서 크기 0.8\n",
        "      rect = Rectangle((x - 0.4, y - 0.4), 0.8, 0.8,\n",
        "                         color='red', alpha=0.7,\n",
        "                         label='Obstacle' if idx == 1 else None)\n",
        "      ax.add_patch(rect)\n",
        "      # 중앙에 번호 표시\n",
        "      ax.text(x, y, str(idx),\n",
        "              color='white', weight='bold',\n",
        "              ha='center', va='center')\n",
        "      # 콘솔 출력\n",
        "      print(f\"Obstacle {idx}: ({x}, {y})\")\n",
        "\n",
        "  # 범례 및 레이아웃 최적화\n",
        "  ax.legend()\n",
        "  plt.tight_layout()\n",
        "  plt.show()"
      ],
      "metadata": {
        "id": "OqTFZasGCS0b"
      },
      "execution_count": null,
      "outputs": []
    },
    {
      "cell_type": "code",
      "source": [
        "obstacles = {(3, 2), (3, 3), (2, 4), (4, 5)}\n",
        "draw_obstacles(obstacles)"
      ],
      "metadata": {
        "colab": {
          "base_uri": "https://localhost:8080/",
          "height": 679
        },
        "id": "2Mk6gE5hEgXj",
        "outputId": "8c024c5d-de67-4fe6-f5ae-c8f9e3f5f93e"
      },
      "execution_count": null,
      "outputs": [
        {
          "output_type": "stream",
          "name": "stdout",
          "text": [
            "Obstacle 1: (4, 5)\n",
            "Obstacle 2: (3, 3)\n",
            "Obstacle 3: (3, 2)\n",
            "Obstacle 4: (2, 4)\n"
          ]
        },
        {
          "output_type": "display_data",
          "data": {
            "text/plain": [
              "<Figure size 800x600 with 1 Axes>"
            ],
            "image/png": "[encoded data removed]"
          },
          "metadata": {}
        }
      ]
    },
    {
      "cell_type": "markdown",
      "source": [
        "#📝 Mission 4 : 이동 경로 그리기 함수 만들기\n"
      ],
      "metadata": {
        "id": "QwlpInQPEwBY"
      }
    },
    {
      "cell_type": "markdown",
      "source": [
        "🎯 조건:\n",
        "1. Import 설정:\n",
        "  - import matplotlib.pyplot as plt\n",
        "2. 함수 정의:\n",
        "  - def draw_path(path):\n",
        "  - 매개변수: path (이동 경로 좌표들의 리스트)\n",
        "3. 캔버스 설정:\n",
        "  - 크기: figsize=(8, 6)\n",
        "  - 축 범위: X(-18), Y(-112)\n",
        "  - 정사각형 비율: ax.set_aspect('equal')\n",
        "  - 격자: grid(True, alpha=0.3)\n",
        "  - 제목: \"Movement Path\"\n",
        "4. 경로 그리기 (2개 이상 점):\n",
        "  - 경로선: 초록색 점선 ('g--')\n",
        "  - 선 두께: linewidth=3, 투명도: alpha=0.8\n",
        "  - 리스트 컴프리헨션으로 x, y 좌표 분리\n",
        "  - ax.plot(path_x, path_y, ...) 사용\n",
        "5. 시작점과 끝점 표시:\n",
        "  - 시작점: 파란색 원 ('bo', markersize=10)\n",
        "  - 끝점: 빨간색 원 ('ro', markersize=10)\n",
        "  - 라벨에 좌표 정보 포함\n",
        "6. 점 번호 표시:\n",
        "  - 각 경로 점에 번호 (1, 2, 3...)\n",
        "  - 위치: (x + 0.2, y + 0.2)\n",
        "  - 노란색 둥근 박스 배경\n",
        "  - enumerate() 함수로 번호 매기기"
      ],
      "metadata": {
        "id": "MBRnt1PEOehm"
      }
    },
    {
      "cell_type": "code",
      "source": [
        "import matplotlib.pyplot as plt\n",
        "\n",
        "def draw_path(path):\n",
        "\n",
        "  #캔버스 설정\n",
        "  fig, ax = plt.subplots(figsize = (8, 6))\n",
        "  ax.set_xlim(-1,8)\n",
        "  ax.set_ylim(-1, 12)\n",
        "  ax.set_aspect('equal')\n",
        "  ax.grid(True,alpha=0.3)\n",
        "  ax.set_title(\"Movement Path\")\n",
        "\n",
        "  #경로 그리기\n",
        "  #x, y좌표 분리\n",
        "  path_x, path_y = zip(*path)\n",
        "  #초록선, 두께 - 3, 투명도 - 0.8\n",
        "  ax.plot(path_x, path_y, 'g--', linewidth=3, alpha=0.8)\n",
        "\n",
        "  #시작점과 끝점 표시\n",
        "  #path[0][0] > 시작점 튜플에 첫번째요소(x1) / path[0][1] > 시작점에 두번째 요소(y1)\n",
        "  ax.plot(path[0][0], path[0][1], 'bo', markersize=10, label=f\"Start : {path[0]}\")\n",
        "  ax.plot(path[-1][0], path[-1][1], 'ro', markersize=10, label=f\"End : {path[-1]}\")\n",
        "\n",
        "  #점 번호 표시\n",
        "  for idx, (x, y) in enumerate(path, start=1):\n",
        "      if idx == 1:            # 시작점\n",
        "          c, m = 'blue', 'o'\n",
        "      elif idx == len(path):  # 끝점\n",
        "          c, m = 'red', 'o'\n",
        "      else:                   # 나머지\n",
        "          c, m = 'yellow', 'o'\n",
        "\n",
        "      ax.plot(x, y, marker=m, color=c, markersize=10)\n",
        "      ax.text(x + 0.2, y + 0.2, str(idx))\n",
        "\n",
        "\n",
        "  ax.legend()\n",
        "  plt.tight_layout()\n",
        "  plt.show()"
      ],
      "metadata": {
        "id": "nXrnla9PKaWv"
      },
      "execution_count": null,
      "outputs": []
    },
    {
      "cell_type": "code",
      "source": [
        "sample_path = [(0, 0), (2, 3), (4, 6), (6, 9)]\n",
        "draw_path(sample_path)"
      ],
      "metadata": {
        "colab": {
          "base_uri": "https://localhost:8080/",
          "height": 607
        },
        "id": "iu6N0lDCKb9_",
        "outputId": "e46a8faa-5a68-45af-dc5e-4e318f55af28"
      },
      "execution_count": null,
      "outputs": [
        {
          "output_type": "display_data",
          "data": {
            "text/plain": [
              "<Figure size 800x600 with 1 Axes>"
            ],
            "image/png": "[encoded data removed]"
          },
          "metadata": {}
        }
      ]
    },
    {
      "cell_type": "markdown",
      "source": [
        "#센서 빔들 그리기 # 📝 Mission: 센서 그리기 함수 만들기\n"
      ],
      "metadata": {
        "id": "2D8dAgjDYvlh"
      }
    },
    {
      "cell_type": "markdown",
      "source": [
        "🎯 조건:\n",
        "1. 함수 정의:\n",
        "  - def draw_sensors(x, y, sensors):\n",
        "2. 캔버스: figsize=(6, 5), 격자, 제목 \"Sensors\"\n",
        "3. 차량 위치: 검은색 원점 'ko', markersize=15\n",
        "4. 센서 선 그리기:\n",
        "  - 전방: 'b-' (x, y) → (x, y + sensors['front'])\n",
        "  - 좌측: 'g-' (x, y) → (x - sensors['left'], y)\n",
        "  - 우측: 'r-' (x, y) → (x + sensors['right'], y)\n",
        "  - 모든 선: linewidth=3"
      ],
      "metadata": {
        "id": "5tpKpMQJYx_g"
      }
    },
    {
      "cell_type": "code",
      "source": [
        "import matplotlib.pyplot as plt\n",
        "\n",
        "def draw_sensors(x, y, sensors):\n",
        "\n",
        "  # 캔버스\n",
        "  fig, ax = plt.subplots(figsize=(6, 5))\n",
        "  ax.grid(True, alpha=0.3)\n",
        "  ax.set_title(\"Sensors\")\n",
        "\n",
        "  # 차량 위치\n",
        "  ax.plot(x, y, 'ko', markersize=15, label=\"Car\")\n",
        "\n",
        "\n",
        "  ax.legend()\n",
        "  plt.tight_layout()\n",
        "  plt.show()"
      ],
      "metadata": {
        "id": "cMYAAr_OYxlW"
      },
      "execution_count": null,
      "outputs": []
    },
    {
      "cell_type": "code",
      "source": [
        "draw_sensors(1,1, sensors=1)"
      ],
      "metadata": {
        "colab": {
          "base_uri": "https://localhost:8080/",
          "height": 507
        },
        "id": "iNbx6gW6djhw",
        "outputId": "99364a66-ec3f-404d-adf6-241d214eb84e"
      },
      "execution_count": null,
      "outputs": [
        {
          "output_type": "display_data",
          "data": {
            "text/plain": [
              "<Figure size 600x500 with 1 Axes>"
            ],
            "image/png": "[encoded data removed]"
          },
          "metadata": {}
        }
      ]
    }
  ]
}