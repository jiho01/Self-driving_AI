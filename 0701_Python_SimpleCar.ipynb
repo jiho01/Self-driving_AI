{
  "nbformat": 4,
  "nbformat_minor": 0,
  "metadata": {
    "colab": {
      "provenance": [],
      "authorship_tag": "ABX9TyMRD5jxQUedNg1/7oqNchRy",
      "include_colab_link": true
    },
    "kernelspec": {
      "name": "python3",
      "display_name": "Python 3"
    },
    "language_info": {
      "name": "python"
    }
  },
  "cells": [
    {
      "cell_type": "markdown",
      "metadata": {
        "id": "view-in-github",
        "colab_type": "text"
      },
      "source": [
        "<a href=\"https://colab.research.google.com/github/jiho01/Self-driving_AI/blob/main/0701_Python_SimpleCar.ipynb\" target=\"_parent\"><img src=\"https://colab.research.google.com/assets/colab-badge.svg\" alt=\"Open In Colab\"/></a>"
      ]
    },
    {
      "cell_type": "markdown",
      "source": [
        "\n",
        "#1번 flowchart\n",
        "\n",
        "\n",
        "---\n",
        "\n"
      ],
      "metadata": {
        "id": "8WAuCoOkX4us"
      }
    },
    {
      "cell_type": "code",
      "source": [
        "def init_sensors():\n",
        "\n",
        "    sensors = {\n",
        "        '앞쪽' : 15.0,\n",
        "        '왼쪽' : 15.0,\n",
        "        '오른쪽' : 15.0\n",
        "    }\n",
        "\n",
        "    print(f\"센서 값 : {sensors}\\n\")\n",
        "    return sensors"
      ],
      "metadata": {
        "id": "e6jgIEryUZif"
      },
      "execution_count": 426,
      "outputs": []
    },
    {
      "cell_type": "code",
      "source": [
        "if __name__ == \"__main__\":\n",
        "    sensors = init_sensors()"
      ],
      "metadata": {
        "colab": {
          "base_uri": "https://localhost:8080/"
        },
        "id": "8Qrr2ulrWQJh",
        "outputId": "d5f8b604-2c9d-499f-ea38-b6475c2c5244"
      },
      "execution_count": 427,
      "outputs": [
        {
          "output_type": "stream",
          "name": "stdout",
          "text": [
            "센서 값 : {'앞쪽': 15.0, '왼쪽': 15.0, '오른쪽': 15.0}\n",
            "\n"
          ]
        }
      ]
    },
    {
      "cell_type": "markdown",
      "source": [
        "# 2번 - scan_front\n",
        "\n",
        "---\n",
        "\n"
      ],
      "metadata": {
        "id": "w01Kj7pIYLKV"
      }
    },
    {
      "cell_type": "code",
      "source": [
        "def scan_front(x, y, obstacles, sensors):\n",
        "    print(\"-\"*50 +\"\\n2-04 ⬆️앞쪽 스캔 시작\")\n",
        "\n",
        "    if(x, y+1) in obstacles:\n",
        "        print(\"2-06 앞쪽 1칸 장애물 발견!\")\n",
        "        sensors['앞쪽'] = 1.0\n",
        "\n",
        "    elif(x, y+2) in obstacles:\n",
        "        print(\"2-10 앞쪽 2칸 장애물 발견!\")\n",
        "        sensors['앞쪽'] = 2.0\n",
        "\n",
        "    elif(x, y+3) in obstacles:\n",
        "        print(\"2-13 앞쪽 3칸 장애물 발견!\")\n",
        "        sensors['앞쪽'] = 3.0\n",
        "    else:\n",
        "        print(\"2-15 : 앞쪽 장애물 없음\")\n",
        "        sensors['앞쪽'] = 15.0\n",
        "\n",
        "    print(\"2-16 앞쪽 스캔 종료\")"
      ],
      "metadata": {
        "id": "Zf0Ji9YNeQPp"
      },
      "execution_count": 428,
      "outputs": []
    },
    {
      "cell_type": "code",
      "source": [
        "obstacles = [(0, 2), (1, 3), (2, 4)]\n",
        "\n",
        "scan_front(0, 0, obstacles, sensors)"
      ],
      "metadata": {
        "colab": {
          "base_uri": "https://localhost:8080/"
        },
        "id": "XxovzCHXe6g1",
        "outputId": "0e6da390-0c6e-41e0-f5a4-f4b182502098"
      },
      "execution_count": 429,
      "outputs": [
        {
          "output_type": "stream",
          "name": "stdout",
          "text": [
            "--------------------------------------------------\n",
            "2-04 ⬆️앞쪽 스캔 시작\n",
            "2-10 앞쪽 2칸 장애물 발견!\n",
            "2-16 앞쪽 스캔 종료\n"
          ]
        }
      ]
    },
    {
      "cell_type": "markdown",
      "source": [
        "#3번 - scan_left\n",
        "\n",
        "---\n",
        "\n"
      ],
      "metadata": {
        "id": "hqaeccW4gqUI"
      }
    },
    {
      "cell_type": "code",
      "source": [
        "def scan_left(x, y, obstacles, sensors):\n",
        "    print(\"-\"*50 +\"\\n3-04 ⬅️왼쪽 스캔 시작\")\n",
        "\n",
        "    if(x-1, y) in obstacles:\n",
        "        print(\"3-07 왼쪽 1칸 장애물 발견!\")\n",
        "        sensors['왼쪽'] = 1.0\n",
        "\n",
        "    elif(x-2, y) in obstacles:\n",
        "        print(\"3-10 왼쪽 2칸 장애물 발견!\")\n",
        "        sensors['왼쪽'] = 2.0\n",
        "\n",
        "    elif(x-3, y) in obstacles:\n",
        "        print(\"3-13 왼쪽 3칸 장애물 발견!\")\n",
        "        sensors['왼쪽'] = 3.0\n",
        "    else:\n",
        "        print(\"3-15 : 왼쪽 장애물 없음\")\n",
        "        sensors['왼쪽'] = 15.0\n",
        "\n",
        "    print(\"3-16 앞쪽 스캔 종료\")"
      ],
      "metadata": {
        "id": "QhHoQ4ihbWKY"
      },
      "execution_count": 430,
      "outputs": []
    },
    {
      "cell_type": "code",
      "source": [
        "obstacles = [(0, 2), (1, 3), (2, 4)]\n",
        "\n",
        "scan_left(3, 2, obstacles, sensors)"
      ],
      "metadata": {
        "colab": {
          "base_uri": "https://localhost:8080/"
        },
        "id": "rv1qloFCjKzG",
        "outputId": "17930193-4570-46b0-bdb5-3ee2ab97ed90"
      },
      "execution_count": 431,
      "outputs": [
        {
          "output_type": "stream",
          "name": "stdout",
          "text": [
            "--------------------------------------------------\n",
            "3-04 ⬅️왼쪽 스캔 시작\n",
            "3-13 왼쪽 3칸 장애물 발견!\n",
            "3-16 앞쪽 스캔 종료\n"
          ]
        }
      ]
    },
    {
      "cell_type": "markdown",
      "source": [
        "#4번 - scan_right\n",
        "\n",
        "---\n",
        "\n"
      ],
      "metadata": {
        "id": "A-KSVFjKjb6c"
      }
    },
    {
      "cell_type": "code",
      "source": [
        "def scan_right(x, y, obstacles, sensors):\n",
        "    print(\"-\"*50 +\"\\n4-04 ➡️오른쪽 스캔 시작\")\n",
        "\n",
        "    if (x + 1, y) in obstacles:\n",
        "        print(\"4-07 오른쪽 1칸 장애물 발견!\")\n",
        "        sensors['오른쪽'] = 1.0\n",
        "\n",
        "    elif (x + 2, y) in obstacles:\n",
        "        print(\"4-10 오른쪽 2칸 장애물 발견!\")\n",
        "        sensors['오른쪽'] = 2.0\n",
        "\n",
        "    elif (x + 3, y) in obstacles:\n",
        "        print(\"4-13 오른쪽 3칸 장애물 발견!\")\n",
        "        sensors['오른쪽'] = 3.0\n",
        "    else:\n",
        "        print(\"4-15 오른쪽 장애물 없음\")\n",
        "        sensors['오른쪽'] = 15.0\n",
        "\n",
        "    print(\"4-16 오른쪽 스캔 종료\")"
      ],
      "metadata": {
        "id": "FV5ZU2qRjN9A"
      },
      "execution_count": 432,
      "outputs": []
    },
    {
      "cell_type": "code",
      "source": [
        "obstacles = {(0, 2), (1, 3), (2, 4)}\n",
        "\n",
        "scan_right(0, 3, obstacles, sensors)"
      ],
      "metadata": {
        "colab": {
          "base_uri": "https://localhost:8080/"
        },
        "id": "1w0Jt7bbjrDu",
        "outputId": "451a9833-93d2-4678-b406-8c8efef6e412"
      },
      "execution_count": 433,
      "outputs": [
        {
          "output_type": "stream",
          "name": "stdout",
          "text": [
            "--------------------------------------------------\n",
            "4-04 ➡️오른쪽 스캔 시작\n",
            "4-07 오른쪽 1칸 장애물 발견!\n",
            "4-16 오른쪽 스캔 종료\n"
          ]
        }
      ]
    },
    {
      "cell_type": "markdown",
      "source": [
        "#5번 - 센서 데이터 엡데이트\n",
        "\n",
        "---\n",
        "\n"
      ],
      "metadata": {
        "id": "ICmQ0Luno2JC"
      }
    },
    {
      "cell_type": "code",
      "source": [
        "def update_sensor_data(position, obstacles):\n",
        "  print('='*50 + \"\\n5-04 센서 데이터 업데이트 시작\" + '\\n'+ '='*50)\n",
        "\n",
        "  x = position[0]\n",
        "  y = position[1]\n",
        "\n",
        "  print(\"5-06  위치 추출 완료\\n\")\n",
        "\n",
        "  #위치 출력\n",
        "  print(f\"현재 위치 : x : {x}, y : {y}\")\n",
        "  print(f\"장애물 위치 : {obstacles}\")\n",
        "  sensors = init_sensors()\n",
        "\n",
        "  #장애물 감지\n",
        "  scan_front(x, y, obstacles, sensors)\n",
        "  scan_left(x, y, obstacles, sensors)\n",
        "  scan_right(x, y, obstacles, sensors)\n",
        "\n",
        "  print('='*50 +\"\\n5-17 센서 데이터 업데이트 완료\\n\" + '='*50)\n",
        "\n",
        "  return sensors"
      ],
      "metadata": {
        "id": "jtgyO8ptj4f8"
      },
      "execution_count": 459,
      "outputs": []
    },
    {
      "cell_type": "code",
      "source": [
        "#현재 위치\n",
        "position = (1, 2)\n",
        "\n",
        "#장애물 위치\n",
        "obstacles = {(0, 2), (1, 3), (2, 4)}\n",
        "\n",
        "#센서 값\n",
        "sensors = {\n",
        "        '앞쪽' : 15.0,\n",
        "        '왼쪽' : 15.0,\n",
        "        '오른쪽' : 15.0\n",
        "    }\n",
        "\n",
        "sensors = update_sensor_data(position, obstacles)\n",
        "\n",
        "print(f\"\\n최종 센서 값: {sensors}\")"
      ],
      "metadata": {
        "colab": {
          "base_uri": "https://localhost:8080/"
        },
        "id": "wOqaiGeiq9qm",
        "outputId": "05e0e61c-e0d1-4527-d11d-39426b3b7456"
      },
      "execution_count": 460,
      "outputs": [
        {
          "output_type": "stream",
          "name": "stdout",
          "text": [
            "==================================================\n",
            "5-04 센서 데이터 업데이트 시작\n",
            "==================================================\n",
            "5-06  위치 추출 완료\n",
            "\n",
            "현재 위치 : x : 1, y : 2\n",
            "장애물 위치 : {(0, 2), (1, 3), (2, 4)}\n",
            "센서 값 : {'앞쪽': 15.0, '왼쪽': 15.0, '오른쪽': 15.0}\n",
            "\n",
            "--------------------------------------------------\n",
            "2-04 ⬆️앞쪽 스캔 시작\n",
            "2-06 앞쪽 1칸 장애물 발견!\n",
            "2-16 앞쪽 스캔 종료\n",
            "--------------------------------------------------\n",
            "3-04 ⬅️왼쪽 스캔 시작\n",
            "3-07 왼쪽 1칸 장애물 발견!\n",
            "3-16 앞쪽 스캔 종료\n",
            "--------------------------------------------------\n",
            "4-04 ➡️오른쪽 스캔 시작\n",
            "4-15 오른쪽 장애물 없음\n",
            "4-16 오른쪽 스캔 종료\n",
            "==================================================\n",
            "5-17 센서 데이터 업데이트 완료\n",
            "==================================================\n",
            "\n",
            "최종 센서 값: {'앞쪽': 1.0, '왼쪽': 1.0, '오른쪽': 15.0}\n"
          ]
        }
      ]
    },
    {
      "cell_type": "markdown",
      "source": [
        "#6번 - 장애물 확인\n",
        "\n",
        "---"
      ],
      "metadata": {
        "id": "x8pnN5jWvx2U"
      }
    },
    {
      "cell_type": "code",
      "source": [
        "def detect_obstacles(sensors, safe_distance):\n",
        "  print('='*50 + \"\\n6-04 장애물 감지\\n\" + \"=\"*50)\n",
        "\n",
        "  #센서값과 안전거리 출력\n",
        "  print(f\"센서값 : {sensors}\\n안전거리 : {safe_distance}\\n\" + \"-\"*50)\n",
        "\n",
        "  #장애물 리스트\n",
        "  obstacles = []\n",
        "\n",
        "  #장애물 감지\n",
        "  for(direction, distance) in sensors.items():\n",
        "    print(f\"방향 : {direction} / 거리 : {distance}cm\")\n",
        "\n",
        "    if distance < safe_distance:\n",
        "      obstacles.append(direction)\n",
        "      print(\"6-12 위험!\\n\")\n",
        "    else:\n",
        "      print(\"안전\\n\")\n",
        "\n",
        "  print(\"=\"*50 + \"\\n장애물 감지 완료\\n\" + \"=\"*50)\n",
        "  print(f\"장애물 : {obstacles}\")\n",
        "\n",
        "  return obstacles"
      ],
      "metadata": {
        "id": "UWW1naUBrWIP"
      },
      "execution_count": 457,
      "outputs": []
    },
    {
      "cell_type": "code",
      "source": [
        "obstacles = detect_obstacles(sensors, 3)"
      ],
      "metadata": {
        "colab": {
          "base_uri": "https://localhost:8080/"
        },
        "id": "XyiS-5Ssws_n",
        "outputId": "feb65ea4-40e9-4309-e6d3-8c276f72cf78"
      },
      "execution_count": 470,
      "outputs": [
        {
          "output_type": "stream",
          "name": "stdout",
          "text": [
            "==================================================\n",
            "6-04 장애물 감지\n",
            "==================================================\n",
            "센서값 : {'앞쪽': 1.0, '왼쪽': 1.0, '오른쪽': 15.0}\n",
            "안전거리 : 3\n",
            "--------------------------------------------------\n",
            "방향 : 앞쪽 / 거리 : 1.0cm\n",
            "6-12 위험!\n",
            "\n",
            "방향 : 왼쪽 / 거리 : 1.0cm\n",
            "6-12 위험!\n",
            "\n",
            "방향 : 오른쪽 / 거리 : 15.0cm\n",
            "안전\n",
            "\n",
            "==================================================\n",
            "장애물 감지 완료\n",
            "==================================================\n",
            "장애물 : ['앞쪽', '왼쪽']\n"
          ]
        }
      ]
    },
    {
      "cell_type": "markdown",
      "source": [
        "#7번 - 행동 결정\n",
        "\n",
        "---\n",
        "\n"
      ],
      "metadata": {
        "id": "YLbGJ8Z668Pe"
      }
    },
    {
      "cell_type": "code",
      "source": [
        "def decide_action(obstacles):\n",
        "  print('='*50 + \"\\n7-04 행동 결정\\n\" + \"=\"*50)\n",
        "  print(f\"장애물 : {obstacles}\\n\" + '-'*50)\n",
        "  if len(obstacles) == 0:\n",
        "    print(\"장애물 없음 전진\\n\")\n",
        "    return \"전진\"\n",
        "  elif \"앞쪽\" in obstacles:\n",
        "    print(\"앞에 장애물 있음, 좌우 확인\\n\")\n",
        "    if \"왼쪽\" not in obstacles:\n",
        "      print(\"왼쪽 안전\\n\")\n",
        "      return \"좌회전\"\n",
        "    else:\n",
        "      if \"오른쪽\" not in obstacles:\n",
        "        print(\"오른쪽 안전\\n\")\n",
        "        return \"우회전\"\n",
        "      else:\n",
        "        print(\"모든 방향 위헙\\n\")\n",
        "        return \"정지\"\n",
        "  else:\n",
        "    print(\"앞은 안전, 옆만 위험\\n\")\n",
        "    return \"주의해서 직진\"\n"
      ],
      "metadata": {
        "id": "VQ5UxQA_7DAJ"
      },
      "execution_count": 481,
      "outputs": []
    },
    {
      "cell_type": "code",
      "source": [
        "action = decide_action(obstacles)\n",
        "\n",
        "print(action)"
      ],
      "metadata": {
        "colab": {
          "base_uri": "https://localhost:8080/"
        },
        "id": "kR7V9uMF91fL",
        "outputId": "19e7484c-2ff5-443e-e42d-d816a97eb350"
      },
      "execution_count": 482,
      "outputs": [
        {
          "output_type": "stream",
          "name": "stdout",
          "text": [
            "==================================================\n",
            "7-04 행동 결정\n",
            "==================================================\n",
            "장애물 : ['앞쪽', '왼쪽']\n",
            "--------------------------------------------------\n",
            "앞에 장애물 있음, 좌우 확인\n",
            "\n",
            "오른쪽 안전\n",
            "\n",
            "우회전\n"
          ]
        }
      ]
    },
    {
      "cell_type": "markdown",
      "source": [
        "# 8번 : SimpleCar 클래스\n",
        "\n",
        "---\n"
      ],
      "metadata": {
        "id": "6oNv16Rc2aPr"
      }
    },
    {
      "cell_type": "code",
      "source": [
        "class SimpleCar():\n",
        "  #생성자\n",
        "  def __init__(name, x, y):\n",
        "    name =  name           #이름\n",
        "    position = (x, y)     #시작위치\n",
        "    safe_distance = 3     #안전거리\n",
        "\n",
        "  #행동 실행 총괄\n",
        "  def execute_action(action):\n",
        "    if action == \"전진\":\n",
        "      return y += 1\n",
        "\n",
        "\n",
        "\n",
        "  #메인 시뮬레이션 루프\n",
        "  def run_simulation(obstacles):\n",
        "    count = 0\n",
        "    while count < 10:\n",
        "      sensors = update_sensor_data(position, obstacles)\n",
        "      obstacles = detect_obstacles(sensors, safe_distance)\n",
        "      action = decide_action(obstacles)\n",
        "      position = execute_action(action)\n",
        "      if()\n",
        "      count += 1\n",
        "\n"
      ],
      "metadata": {
        "id": "mf_2AmGfwvn9"
      },
      "execution_count": 438,
      "outputs": []
    }
  ]
}