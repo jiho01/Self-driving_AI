{
  "nbformat": 4,
  "nbformat_minor": 0,
  "metadata": {
    "colab": {
      "provenance": [],
      "collapsed_sections": [
        "O-pREw0J0_IF",
        "HOqWCAX9Yl50",
        "keX8XanDlmG-",
        "K8bAk0bGlpi0",
        "0Jurqu5HlsJW",
        "5WpZ3kKfp8F4",
        "dHmLqa2CuReg",
        "FfKv2yR3v3fc",
        "D2g0S883v8NF",
        "TZ7zoGQyv_rZ",
        "uxZH7zTawBaQ",
        "TUXE_mGIwEbg",
        "EknFTudGwHZm",
        "7hU-LCpawJjC"
      ],
      "authorship_tag": "ABX9TyOtLyuyxOsRh5b7GBzNJTc2",
      "include_colab_link": true
    },
    "kernelspec": {
      "name": "python3",
      "display_name": "Python 3"
    },
    "language_info": {
      "name": "python"
    }
  },
  "cells": [
    {
      "cell_type": "markdown",
      "metadata": {
        "id": "view-in-github",
        "colab_type": "text"
      },
      "source": [
        "<a href=\"https://colab.research.google.com/github/jiho01/Self-driving_AI/blob/main/0702_Python_Numpy.ipynb\" target=\"_parent\"><img src=\"https://colab.research.google.com/assets/colab-badge.svg\" alt=\"Open In Colab\"/></a>"
      ]
    },
    {
      "cell_type": "code",
      "execution_count": 21,
      "metadata": {
        "colab": {
          "base_uri": "https://localhost:8080/"
        },
        "id": "faE9I9VZRtra",
        "outputId": "65842dc2-c861-4cfe-8ad8-65454d43f295"
      },
      "outputs": [
        {
          "output_type": "stream",
          "name": "stdout",
          "text": [
            "2.0.2\n"
          ]
        }
      ],
      "source": [
        "#Numpy 가져와 np로 별\n",
        "import numpy as np\n",
        "\n",
        "#버전 확인\n",
        "print(np.__version__)"
      ]
    },
    {
      "cell_type": "markdown",
      "source": [
        "#Array Class"
      ],
      "metadata": {
        "id": "O-pREw0J0_IF"
      }
    },
    {
      "cell_type": "code",
      "source": [
        "class Arr:\n",
        "\n",
        "  @staticmethod\n",
        "  def arr1():\n",
        "    arr = np.array([1, 2, 3, 4, 5, 6])\n",
        "    print(f\"\\n1차원 배열 : {arr}\")\n",
        "\n",
        "    return arr.copy()\n",
        "\n",
        "  @staticmethod\n",
        "  def arr2():\n",
        "    arr = np.array([[1,2,3],[4,5,6]])\n",
        "    print(f\"\\n2차원 배열 : \\n{arr}\")\n",
        "\n",
        "    return arr.copy()\n",
        "\n",
        "  @staticmethod\n",
        "  def arr3():\n",
        "    arr = np.array([[[1,2,3],[4,5,6]], [[7,8,9],[10,11,12]]])\n",
        "    print(f\"\\n3차원 배열 : \\n{arr}\")\n",
        "\n",
        "    return arr.copy()\n",
        "\n",
        "  @staticmethod\n",
        "  def arr5():\n",
        "    arr = np.array([1,2,3,4], ndmin=5)\n",
        "    print(f\"\\n다차원 배열 확인 : \\n{arr}\")\n",
        "\n",
        "    return arr.copy()"
      ],
      "metadata": {
        "id": "Vm845axDz95z"
      },
      "execution_count": 22,
      "outputs": []
    },
    {
      "cell_type": "markdown",
      "source": [
        "#Numpy Array"
      ],
      "metadata": {
        "id": "HOqWCAX9Yl50"
      }
    },
    {
      "cell_type": "code",
      "source": [
        "#Numpy 배열 객체 ndarry함수 생성\n",
        "\n",
        "#0차원 배열\n",
        "arr0 = np.array(42)\n",
        "print(f\"0차원 배열 : {arr0}\")\n",
        "\n",
        "#1차원 배열\n",
        "arr1 = np.array([1, 2, 3, 4, 5, 6])\n",
        "print(f\"\\n1차원 배열 : \\n{arr1}\")\n",
        "\n",
        "#2차원 배열\n",
        "arr2 = np.array([[1,2,3],[4,5,6]])\n",
        "print(f\"\\n2차원 배열 : \\n{arr2}\")\n",
        "\n",
        "#3차원 배열\n",
        "arr3 = np.array([[[1,2,3],[4,5,6]], [[7,8,9],[10,11,12]]])\n",
        "print(f\"\\n3차원 배열 : \\n{arr3}\")\n",
        "\n",
        "#고차원 배열\n",
        "arr5 = np.array([1,2,3,4], ndmin=5)\n",
        "print(f\"\\n다차원 배열 확인 : \\n{arr5}\")\n",
        "\n",
        "#배열 차원 수 확인\n",
        "print(f\"\\n배열 차원 수 확인 : {arr5.ndim}\")\n",
        "\n",
        "#타입 확인\n",
        "print(f\"배열 타입 확인 : {type(arr5)}\")\n"
      ],
      "metadata": {
        "colab": {
          "base_uri": "https://localhost:8080/"
        },
        "id": "Au6TPEWtSXXX",
        "outputId": "294a2ea1-364f-4639-efde-80198345b965"
      },
      "execution_count": 23,
      "outputs": [
        {
          "output_type": "stream",
          "name": "stdout",
          "text": [
            "0차원 배열 : 42\n",
            "\n",
            "1차원 배열 : \n",
            "[1 2 3 4 5 6]\n",
            "\n",
            "2차원 배열 : \n",
            "[[1 2 3]\n",
            " [4 5 6]]\n",
            "\n",
            "3차원 배열 : \n",
            "[[[ 1  2  3]\n",
            "  [ 4  5  6]]\n",
            "\n",
            " [[ 7  8  9]\n",
            "  [10 11 12]]]\n",
            "\n",
            "다차원 배열 확인 : \n",
            "[[[[[1 2 3 4]]]]]\n",
            "\n",
            "배열 차원 수 확인 : 5\n",
            "배열 타입 확인 : <class 'numpy.ndarray'>\n"
          ]
        }
      ]
    },
    {
      "cell_type": "markdown",
      "source": [
        "#Array Indexing"
      ],
      "metadata": {
        "id": "keX8XanDlmG-"
      }
    },
    {
      "cell_type": "code",
      "source": [
        "#배열 인덱싱\n",
        "\n",
        "#1차원 배열\n",
        "arr = Arr.arr1()\n",
        "\n",
        "print(f\"첫 번째 요소 : {arr[0]}\")\n",
        "\n",
        "print(f\"세 번째와 네 번째 요소 더하기 : {arr[2] + arr[3]}\")\n",
        "\n",
        "\n",
        "#2차원 배열\n",
        "arr = Arr.arr2()\n",
        "\n",
        "print(f\"첫 번째 행의 두번 째 열 요소 : {arr[0, 1]}\")\n",
        "\n",
        "\n",
        "#3차원 배열\n",
        "arr = Arr.arr3()\n",
        "print(f\"첫 번째 행의 두 번째 열의 세 번째 요소 : {arr[0, 1, 2]}\")\n",
        "\n",
        "#음수 인덱싱\n",
        "print(f\"두 번째 행의 마지막 요소 : {arr[1, -1]}\")\n"
      ],
      "metadata": {
        "id": "yA9G37z52LF1",
        "colab": {
          "base_uri": "https://localhost:8080/"
        },
        "outputId": "e0ea041c-dda7-462b-f8e8-587cac9d81ae"
      },
      "execution_count": 24,
      "outputs": [
        {
          "output_type": "stream",
          "name": "stdout",
          "text": [
            "\n",
            "1차원 배열 : [1 2 3 4 5 6]\n",
            "첫 번째 요소 : 1\n",
            "세 번째와 네 번째 요소 더하기 : 7\n",
            "\n",
            "2차원 배열 : \n",
            "[[1 2 3]\n",
            " [4 5 6]]\n",
            "첫 번째 행의 두번 째 열 요소 : 2\n",
            "\n",
            "3차원 배열 : \n",
            "[[[ 1  2  3]\n",
            "  [ 4  5  6]]\n",
            "\n",
            " [[ 7  8  9]\n",
            "  [10 11 12]]]\n",
            "첫 번째 행의 두 번째 열의 세 번째 요소 : 6\n",
            "두 번째 행의 마지막 요소 : [10 11 12]\n"
          ]
        }
      ]
    },
    {
      "cell_type": "markdown",
      "source": [
        "#Array Slicing"
      ],
      "metadata": {
        "id": "K8bAk0bGlpi0"
      }
    },
    {
      "cell_type": "code",
      "source": [
        "#배열 슬라이싱\n",
        "\n",
        "#1차원 배열\n",
        "arr = Arr.arr1()\n",
        "\n",
        "print(f\"1번 ~ 4번 까지 슬라이싱 : {arr[0:4]}\")\n",
        "\n",
        "print(f\"5번 ~ 끝 까지 슬라이싱 : {arr[4:]}\")\n",
        "\n",
        "print(f\"처음 ~ 3번 까지 슬라이싱 : {arr[:4]}\")\n",
        "\n",
        "#네거티브 슬라이싱\n",
        "print(f\"뒤에서 3번 ~ 맨 뒤에서 1번째 까지 슬라이싱 : {arr[-3:-1]}\")\n",
        "\n",
        "#단계\n",
        "print(f\"2번 ~ 5번 까지 2의 배수로 슬라이싱 : {arr[1:6:2]}\")\n",
        "\n",
        "print(f\"처음 ~ 끝 까지 2의 배수로 슬라이싱 : {arr[::2]}\")\n",
        "\n",
        "\n",
        "#2차원\n",
        "arr = Arr.arr2()\n",
        "\n",
        "print(f\"1번 행 -  2번 ~ 4번까지 슬라이싱 : {arr[0, 1:4]}\")\n",
        "\n",
        "print(f\"1번 ~ 2번 행 - 3번 요소 슬라이싱 : {arr[0:2, 2]}\")\n",
        "print(f\"1번 ~ 2번 행 - 2번 ~ 4번 요소 슬라이싱 : \\n{arr[0:2, 1:4]}\")"
      ],
      "metadata": {
        "colab": {
          "base_uri": "https://localhost:8080/"
        },
        "id": "nnqHiCWTdqJ0",
        "outputId": "898c88d3-bfcd-41be-903a-c8788803b67f"
      },
      "execution_count": 25,
      "outputs": [
        {
          "output_type": "stream",
          "name": "stdout",
          "text": [
            "\n",
            "1차원 배열 : [1 2 3 4 5 6]\n",
            "1번 ~ 4번 까지 슬라이싱 : [1 2 3 4]\n",
            "5번 ~ 끝 까지 슬라이싱 : [5 6]\n",
            "처음 ~ 3번 까지 슬라이싱 : [1 2 3 4]\n",
            "뒤에서 3번 ~ 맨 뒤에서 1번째 까지 슬라이싱 : [4 5]\n",
            "2번 ~ 5번 까지 2의 배수로 슬라이싱 : [2 4 6]\n",
            "처음 ~ 끝 까지 2의 배수로 슬라이싱 : [1 3 5]\n",
            "\n",
            "2차원 배열 : \n",
            "[[1 2 3]\n",
            " [4 5 6]]\n",
            "1번 행 -  2번 ~ 4번까지 슬라이싱 : [2 3]\n",
            "1번 ~ 2번 행 - 3번 요소 슬라이싱 : [3 6]\n",
            "1번 ~ 2번 행 - 2번 ~ 4번 요소 슬라이싱 : \n",
            "[[2 3]\n",
            " [5 6]]\n"
          ]
        }
      ]
    },
    {
      "cell_type": "markdown",
      "source": [
        "#Array Data Types"
      ],
      "metadata": {
        "id": "0Jurqu5HlsJW"
      }
    },
    {
      "cell_type": "markdown",
      "source": [
        "\n",
        "---\n",
        "**파이썬의 데이터 유형**\n",
        "\n",
        "\n",
        "\n",
        "*   strings- 텍스트 데이터를 나타내는 데 사용되며 텍스트는 따옴표로 묶여 표시됩니다. 예: \"ABCD\"\n",
        "* integer- 정수를 나타내는 데 사용됩니다. 예: -1, -2, -3\n",
        "* float- 실수를 나타내는 데 사용됩니다. 예: 1.2, 42.42\n",
        "* boolean- 참(True) 또는 거짓(False)을 나타내는 데 사용됩니다.\n",
        "* complex- 복소수를 나타내는 데 사용됩니다. 예: 1.0 + 2.0j, 1.5 + 2.5j\n",
        "\n",
        "\n",
        "---\n",
        "\n",
        "\n",
        "**Numpy의 데이터 유형***\n",
        "\n",
        "| 코드 | 설명                                   | 예시 dtype           | 비고                                   |\n",
        "| ---- | -------------------------------------- | -------------------- | -------------------------------------- |\n",
        "| `i`  | 부호 있는 정수 (integer)               | `int8`, `int32`      | 음수와 양수를 모두 표현할 수 있는 정수 |\n",
        "| `b`  | 불리언 (boolean)                       | `bool_`              | `True`/`False`                         |\n",
        "| `u`  | 부호 없는 정수 (unsigned integer)      | `uint8`, `uint32`    | 0 이상의 정수만 표현                   |\n",
        "| `f`  | 부동소수점 (float)                     | `float32`, `float64` | 소수점을 포함하는 실수                 |\n",
        "| `c`  | 복소수 (complex float)                 | `complex64`, `complex128` | 실수부와 허수부로 구성된 복소수      |\n",
        "| `m`  | 시간 델타 (timedelta)                  | `timedelta64[h]`     | 시간 간격을 나타냄                     |\n",
        "| `M`  | 날짜/시간 (datetime)                   | `datetime64[D]`      | 특정 날짜나 시간을 나타냄              |\n",
        "| `O`  | 파이썬 객체 (object)                   | `object`             | 임의의 파이썬 객체                     |\n",
        "| `S`  | 바이트 문자열 (string)                  | `S10`                | 고정 길이 바이트 문자열 (ASCII)        |\n",
        "| `U`  | 유니코드 문자열 (unicode string)       | `U10`                | 고정 길이 유니코드 문자열              |\n",
        "| `V`  | 원시 메모리 블록 (void)                | `V8`                 | 지정한 크기의 원시 메모리              |\n",
        "\n",
        "\n",
        "\n"
      ],
      "metadata": {
        "id": "lHwSgsnlkoch"
      }
    },
    {
      "cell_type": "code",
      "source": [
        "#데이터 유형\n",
        "\n",
        "#1차원 배열\n",
        "arr = Arr.arr1()\n",
        "print(f\"정수 데이터 유형 : {arr.dtype}\")\n",
        "\n",
        "#문자열 배열\n",
        "arr = np.array(['apple', 'banana', 'cherry'])\n",
        "print(f\"\\n문자열 배열 : {arr}\")\n",
        "print(f\"문자열 배열 유형 : {arr.dtype}\")\n",
        "\n",
        "#데이터 유형 정하기\n",
        "arr = np.array([1, 2, 3, 4], dtype='S')\n",
        "print(f\"\\n데이터 유형 정하기 : {arr}\")\n",
        "print(f\"데이터 유형 정하기 유형 : {arr.dtype}\")\n",
        "\n",
        "#기본 배열 데이터 변환\n",
        "newarr = arr.astype('i')\n",
        "\n",
        "print(f\"\\n기본 배열 데이터 변환 : {newarr}\")\n",
        "print(f\"기본 배열 데이터 변환 유형 : {newarr.dtype}\")\n",
        "\n",
        "#bool 데이터 변환\n",
        "newarr = arr.astype(bool)\n",
        "\n",
        "print(f\"\\n기본 배열 데이터 변환 : {newarr}\")\n",
        "print(f\"기본 배열 데이터 변환 유형 : {newarr.dtype}\")"
      ],
      "metadata": {
        "colab": {
          "base_uri": "https://localhost:8080/"
        },
        "id": "5WSkl78rgoa1",
        "outputId": "96987a21-0664-46c2-8d0d-215c5f70c685"
      },
      "execution_count": 26,
      "outputs": [
        {
          "output_type": "stream",
          "name": "stdout",
          "text": [
            "\n",
            "1차원 배열 : [1 2 3 4 5 6]\n",
            "정수 데이터 유형 : int64\n",
            "\n",
            "문자열 배열 : ['apple' 'banana' 'cherry']\n",
            "문자열 배열 유형 : <U6\n",
            "\n",
            "데이터 유형 정하기 : [b'1' b'2' b'3' b'4']\n",
            "데이터 유형 정하기 유형 : |S1\n",
            "\n",
            "기본 배열 데이터 변환 : [1 2 3 4]\n",
            "기본 배열 데이터 변환 유형 : int32\n",
            "\n",
            "기본 배열 데이터 변환 : [ True  True  True  True]\n",
            "기본 배열 데이터 변환 유형 : bool\n"
          ]
        }
      ]
    },
    {
      "cell_type": "markdown",
      "source": [
        "#Array copy / view"
      ],
      "metadata": {
        "id": "5WpZ3kKfp8F4"
      }
    },
    {
      "cell_type": "code",
      "source": [
        "#배열 copy\n",
        "\n",
        "#1차원 배열\n",
        "arr = Arr.arr1()\n",
        "\n",
        "#copy : 독자적인 배열 생성\n",
        "arr = Arr.arr1()\n",
        "cparr = arr.copy()\n",
        "\n",
        "#원본 배열 수정\n",
        "arr[0] = 42\n",
        "print(f\"\\n수정 배열 : {arr}\")\n",
        "print(f\"배열 copy : {cparr}\")\n",
        "\n",
        "\n",
        "#view : 원본 배열과 연동되는 배열 생성\n",
        "arr = Arr.arr1()\n",
        "vwarr = arr.view()\n",
        "\n",
        "#원본 배열 수정\n",
        "arr[0] = 42\n",
        "print(f\"\\n수정 배열 : {arr}\")\n",
        "print(f\"배열 view : {vwarr}\")\n",
        "\n",
        "#view 배열 수정\n",
        "arr = Arr.arr1()\n",
        "vwarr = arr.view()\n",
        "\n",
        "vwarr[0] = 42\n",
        "print(f\"\\n원본 배열 : {arr}\")\n",
        "print(f\"수정 view : {vwarr}\")\n",
        "\n",
        "#데이터 소유 여부\n",
        "arr = Arr.arr1()\n",
        "\n",
        "x = arr.copy()\n",
        "y = arr.view()\n",
        "\n",
        "print(f\"\\ncopy 배열 데이터 소유 : {x.base}\")\n",
        "print(f\"view 배열 데이터 소유 : {y.base}\")"
      ],
      "metadata": {
        "colab": {
          "base_uri": "https://localhost:8080/"
        },
        "id": "_su5rUVqpp1R",
        "outputId": "80775e14-0d9c-4f64-f8a9-a7929d15f2d0"
      },
      "execution_count": 27,
      "outputs": [
        {
          "output_type": "stream",
          "name": "stdout",
          "text": [
            "\n",
            "1차원 배열 : [1 2 3 4 5 6]\n",
            "\n",
            "1차원 배열 : [1 2 3 4 5 6]\n",
            "\n",
            "수정 배열 : [42  2  3  4  5  6]\n",
            "배열 copy : [1 2 3 4 5 6]\n",
            "\n",
            "1차원 배열 : [1 2 3 4 5 6]\n",
            "\n",
            "수정 배열 : [42  2  3  4  5  6]\n",
            "배열 view : [42  2  3  4  5  6]\n",
            "\n",
            "1차원 배열 : [1 2 3 4 5 6]\n",
            "\n",
            "원본 배열 : [42  2  3  4  5  6]\n",
            "수정 view : [42  2  3  4  5  6]\n",
            "\n",
            "1차원 배열 : [1 2 3 4 5 6]\n",
            "\n",
            "copy 배열 데이터 소유 : None\n",
            "view 배열 데이터 소유 : [1 2 3 4 5 6]\n"
          ]
        }
      ]
    },
    {
      "cell_type": "markdown",
      "source": [
        "#Array shape"
      ],
      "metadata": {
        "id": "dHmLqa2CuReg"
      }
    },
    {
      "cell_type": "code",
      "source": [
        "#배열 모양\n",
        "\n",
        "#2차원 배열\n",
        "arr = Arr.arr2()\n",
        "\n",
        "print(f\"첫 번째 차원에 2개 요소, 2번째 차원에 3개 요소 : {arr.shape}\")\n",
        "\n",
        "#5차원 배열\n",
        "arr = Arr.arr5()\n",
        "\n",
        "print(f\"5번째 차원에만 4개 요소 : {arr.shape}\")\n"
      ],
      "metadata": {
        "colab": {
          "base_uri": "https://localhost:8080/"
        },
        "id": "zqxaEPgfuUSA",
        "outputId": "0f08fbcf-7644-4486-dbc8-adbae662c213"
      },
      "execution_count": 28,
      "outputs": [
        {
          "output_type": "stream",
          "name": "stdout",
          "text": [
            "\n",
            "2차원 배열 : \n",
            "[[1 2 3]\n",
            " [4 5 6]]\n",
            "첫 번째 차원에 2개 요소, 2번째 차원에 3개 요소 : (2, 3)\n",
            "\n",
            "다차원 배열 확인 : \n",
            "[[[[[1 2 3 4]]]]]\n",
            "5번째 차원에만 4개 요소 : (1, 1, 1, 1, 4)\n"
          ]
        }
      ]
    },
    {
      "cell_type": "markdown",
      "source": [
        "#Array Reshape\n"
      ],
      "metadata": {
        "id": "FfKv2yR3v3fc"
      }
    },
    {
      "cell_type": "code",
      "source": [
        "#배열 재구성\n",
        "\n",
        "#1차원 배열\n",
        "arr = Arr.arr1()\n",
        "\n",
        "#1차원 배열 -> 2차원 배열\n",
        "newarr = arr.reshape(2, 3)\n",
        "print(f\"\\n배열 2차원 3요소로 재구성 : \\n{newarr}\")\n",
        "\n",
        "#1차원 배열 -> 3차원 배열\n",
        "newarr = arr.reshape(1, 3, 2)\n",
        "print(f\"\\n배열 3차원 2요소로 재구성 : \\n{newarr}\")\n",
        "\n",
        "print(f\"\\n재구성 후 배열은 view : {arr.reshape(2,3).base}\")\n",
        "\n",
        "#알 수 없는 차원\n",
        "newarr = arr.reshape(1,2,-1)\n",
        "print(f\"\\n'-1'은 자동 정렬 : \\n{newarr}\")\n",
        "\n",
        "#배열 평면화\n",
        "print(f\"\\n1차원 배열로 재배열 : {newarr.reshape(-1)}\")"
      ],
      "metadata": {
        "colab": {
          "base_uri": "https://localhost:8080/"
        },
        "id": "6PYRSHXWv7wk",
        "outputId": "fe33c139-8ca1-4046-a6b8-35270d2ffecf"
      },
      "execution_count": 29,
      "outputs": [
        {
          "output_type": "stream",
          "name": "stdout",
          "text": [
            "\n",
            "1차원 배열 : [1 2 3 4 5 6]\n",
            "\n",
            "배열 2차원 3요소로 재구성 : \n",
            "[[1 2 3]\n",
            " [4 5 6]]\n",
            "\n",
            "배열 3차원 2요소로 재구성 : \n",
            "[[[1 2]\n",
            "  [3 4]\n",
            "  [5 6]]]\n",
            "\n",
            "재구성 후 배열은 view : [1 2 3 4 5 6]\n",
            "\n",
            "'-1'은 자동 정렬 : \n",
            "[[[1 2 3]\n",
            "  [4 5 6]]]\n",
            "\n",
            "1차원 배열로 재배열 : [1 2 3 4 5 6]\n"
          ]
        }
      ]
    },
    {
      "cell_type": "markdown",
      "source": [
        "#Array Iterating"
      ],
      "metadata": {
        "id": "D2g0S883v8NF"
      }
    },
    {
      "cell_type": "code",
      "source": [
        "#배열 반복\n",
        "\n",
        "#1차원 배열\n",
        "arr = Arr.arr1()\n",
        "\n",
        "print('\\n1차원 출력 : ')\n",
        "for x in arr:\n",
        "  print(x)\n",
        "\n",
        "#2차원 배열\n",
        "arr = Arr.arr2()\n",
        "\n",
        "print(\"\\n2차원 출력 : \")\n",
        "for x in arr:\n",
        "  print(x)\n",
        "\n",
        "print('\\n1차원 출력 : ')\n",
        "for x in arr:\n",
        "  for y in x:\n",
        "    print(y)\n",
        "\n",
        "#3차원 배열\n",
        "arr = Arr.arr3()\n",
        "\n",
        "print('\\n3차원 출력 : ')\n",
        "for x in arr:\n",
        "  print(x)\n",
        "\n",
        "print(\"\\n1차원 출력 : \")\n",
        "for x in arr:\n",
        "  for y in x:\n",
        "    for z in y:\n",
        "      print(z)"
      ],
      "metadata": {
        "colab": {
          "base_uri": "https://localhost:8080/"
        },
        "collapsed": true,
        "id": "pfAtFW5yv_CV",
        "outputId": "283e0705-d77a-4b2e-ff9a-27867d910f8a"
      },
      "execution_count": 30,
      "outputs": [
        {
          "output_type": "stream",
          "name": "stdout",
          "text": [
            "\n",
            "1차원 배열 : [1 2 3 4 5 6]\n",
            "\n",
            "1차원 출력 : \n",
            "1\n",
            "2\n",
            "3\n",
            "4\n",
            "5\n",
            "6\n",
            "\n",
            "2차원 배열 : \n",
            "[[1 2 3]\n",
            " [4 5 6]]\n",
            "\n",
            "2차원 출력 : \n",
            "[1 2 3]\n",
            "[4 5 6]\n",
            "\n",
            "1차원 출력 : \n",
            "1\n",
            "2\n",
            "3\n",
            "4\n",
            "5\n",
            "6\n",
            "\n",
            "3차원 배열 : \n",
            "[[[ 1  2  3]\n",
            "  [ 4  5  6]]\n",
            "\n",
            " [[ 7  8  9]\n",
            "  [10 11 12]]]\n",
            "\n",
            "3차원 출력 : \n",
            "[[1 2 3]\n",
            " [4 5 6]]\n",
            "[[ 7  8  9]\n",
            " [10 11 12]]\n",
            "\n",
            "1차원 출력 : \n",
            "1\n",
            "2\n",
            "3\n",
            "4\n",
            "5\n",
            "6\n",
            "7\n",
            "8\n",
            "9\n",
            "10\n",
            "11\n",
            "12\n"
          ]
        }
      ]
    },
    {
      "cell_type": "code",
      "source": [
        "#nditer\n",
        "\n",
        "#3차원 배열\n",
        "arr = Arr.arr3()\n",
        "\n",
        "print('\\nncditer을 이용한 1차원 출력 : ')\n",
        "for x in np.nditer(arr):\n",
        "  print(x)\n",
        "\n",
        "#1차원 배열\n",
        "arr = Arr.arr1()\n",
        "\n",
        "#데이터 유형 변경 후 출력\n",
        "print(\"\\n데이터 유형 변경 후 출력 : \")\n",
        "for x in np.nditer(arr, flags=['buffered'], op_dtypes=['S']):\n",
        "  print(x)\n",
        "\n",
        "#2차원 배열\n",
        "arr = Arr.arr2()\n",
        "\n",
        "#모든 행 2배수 출력\n",
        "print(\"\\n모든 행 2배수 요소 출력 : \")\n",
        "for x in np.nditer(arr[:, ::2]):\n",
        "  print(x)\n",
        "\n",
        "#1차원 배열\n",
        "arr = Arr.arr1()\n",
        "\n",
        "#ndenumerate 사용\n",
        "print(\"\\nndenumerate 사용 : \")\n",
        "for idx, x in np.ndenumerate(arr):\n",
        "  print(f\"{idx}번째 : {x}\")"
      ],
      "metadata": {
        "colab": {
          "base_uri": "https://localhost:8080/"
        },
        "id": "qBlcnV2gzuAX",
        "outputId": "8b9e2b90-8e66-4a7e-995a-d4e406609d34"
      },
      "execution_count": 31,
      "outputs": [
        {
          "output_type": "stream",
          "name": "stdout",
          "text": [
            "\n",
            "3차원 배열 : \n",
            "[[[ 1  2  3]\n",
            "  [ 4  5  6]]\n",
            "\n",
            " [[ 7  8  9]\n",
            "  [10 11 12]]]\n",
            "\n",
            "ncditer을 이용한 1차원 출력 : \n",
            "1\n",
            "2\n",
            "3\n",
            "4\n",
            "5\n",
            "6\n",
            "7\n",
            "8\n",
            "9\n",
            "10\n",
            "11\n",
            "12\n",
            "\n",
            "1차원 배열 : [1 2 3 4 5 6]\n",
            "\n",
            "데이터 유형 변경 후 출력 : \n",
            "np.bytes_(b'1')\n",
            "np.bytes_(b'2')\n",
            "np.bytes_(b'3')\n",
            "np.bytes_(b'4')\n",
            "np.bytes_(b'5')\n",
            "np.bytes_(b'6')\n",
            "\n",
            "2차원 배열 : \n",
            "[[1 2 3]\n",
            " [4 5 6]]\n",
            "\n",
            "모든 행 2배수 요소 출력 : \n",
            "1\n",
            "3\n",
            "4\n",
            "6\n",
            "\n",
            "1차원 배열 : [1 2 3 4 5 6]\n",
            "\n",
            "ndenumerate 사용 : \n",
            "(0,)번째 : 1\n",
            "(1,)번째 : 2\n",
            "(2,)번째 : 3\n",
            "(3,)번째 : 4\n",
            "(4,)번째 : 5\n",
            "(5,)번째 : 6\n"
          ]
        }
      ]
    },
    {
      "cell_type": "markdown",
      "source": [
        "# Array Join"
      ],
      "metadata": {
        "id": "TZ7zoGQyv_rZ"
      }
    },
    {
      "cell_type": "code",
      "source": [
        "#배열 결합\n",
        "\n",
        "#1차원 배열\n",
        "arr1 = np.array([1,2,3])\n",
        "arr2 = np.array([4,5,6])\n",
        "print(f\"배열1 : {arr1}\")\n",
        "print(f\"배열2 : {arr2}\")\n",
        "\n",
        "#1차원 배열 두개 합치기\n",
        "arr = np.concatenate((arr1, arr2))\n",
        "print(f\"\\n1차원 배열 결합 : {arr}\")\n",
        "\n",
        "#스택 결합\n",
        "arr = np.stack((arr1, arr2), axis=1)\n",
        "print(f\"스택 결합 : \\n{arr}\")\n",
        "\n",
        "#행 결합\n",
        "arr = np.hstack((arr1, arr2))\n",
        "print(f\"행 결합 : \\n{arr}\")\n",
        "\n",
        "#열 결합\n",
        "arr = np.vstack((arr1, arr2))\n",
        "print(f\"열 결합 : \\n{arr}\")\n",
        "\n",
        "#깊이 결합\n",
        "arr = np.dstack((arr1, arr2))\n",
        "print(f\"깊이 결합 : \\n{arr}\")\n",
        "\n",
        "\n",
        "#2차원 배열\n",
        "arr1 = np.array([[1,2],[3,4]])\n",
        "arr2 = np.array([[5,6],[7,8]])\n",
        "\n",
        "arr = np.concatenate((arr1, arr2), axis=1)\n",
        "print(f\"\\n2차원 배열 결합 : \\n{arr}\")"
      ],
      "metadata": {
        "colab": {
          "base_uri": "https://localhost:8080/"
        },
        "id": "NXobk2SnwA6W",
        "outputId": "080c3ab2-fc56-4921-a75b-2b821bbd545a"
      },
      "execution_count": 32,
      "outputs": [
        {
          "output_type": "stream",
          "name": "stdout",
          "text": [
            "배열1 : [1 2 3]\n",
            "배열2 : [4 5 6]\n",
            "\n",
            "1차원 배열 결합 : [1 2 3 4 5 6]\n",
            "스택 결합 : \n",
            "[[1 4]\n",
            " [2 5]\n",
            " [3 6]]\n",
            "행 결합 : \n",
            "[1 2 3 4 5 6]\n",
            "열 결합 : \n",
            "[[1 2 3]\n",
            " [4 5 6]]\n",
            "깊이 결합 : \n",
            "[[[1 4]\n",
            "  [2 5]\n",
            "  [3 6]]]\n",
            "\n",
            "2차원 배열 결합 : \n",
            "[[1 2 5 6]\n",
            " [3 4 7 8]]\n"
          ]
        }
      ]
    },
    {
      "cell_type": "markdown",
      "source": [
        "#Array Split"
      ],
      "metadata": {
        "id": "uxZH7zTawBaQ"
      }
    },
    {
      "cell_type": "code",
      "source": [
        "#배열 분할\n",
        "\n",
        "#1차원 배열\n",
        "arr1 = Arr.arr1()\n",
        "\n",
        "#3번 분할\n",
        "newarr = np.array_split(arr1, 3)\n",
        "\n",
        "print(f\"3번 분할 : {newarr}\")\n",
        "\n",
        "#4번 분할\n",
        "newarr = np.array_split(arr1, 4)\n",
        "\n",
        "print(f\"4번 분할 : {newarr}\")\n",
        "\n",
        "print(f\"4번 분할 첫 번째 배열 : {newarr[0]}\")\n",
        "print(f\"4번 분할 두 번째 배열 : {newarr[1]}\")\n",
        "\n",
        "#2차원 배열\n",
        "arr2 = Arr.arr2()\n",
        "\n",
        "newarr = np.array_split(arr2, 3)\n",
        "\n",
        "print(f\"3번 분할 : \\n{newarr}\")\n",
        "\n",
        "#축 분할\n",
        "arr = np.array([[1, 2, 3], [4, 5, 6], [7, 8, 9], [10, 11, 12], [13, 14, 15], [16, 17, 18]])\n",
        "\n",
        "#열 분할\n",
        "newarr = np.array_split(arr, 3, axis=1)\n",
        "\n",
        "print(f\"열 분할 : \\n{newarr}\")\n",
        "\n",
        "newarr = np.hsplit(arr, 3)\n",
        "\n",
        "print(newarr)"
      ],
      "metadata": {
        "colab": {
          "base_uri": "https://localhost:8080/"
        },
        "id": "UqhluP5AwDI4",
        "outputId": "6bc95a3c-58f4-44f1-f63e-fea5c30e741c"
      },
      "execution_count": 33,
      "outputs": [
        {
          "output_type": "stream",
          "name": "stdout",
          "text": [
            "\n",
            "1차원 배열 : [1 2 3 4 5 6]\n",
            "3번 분할 : [array([1, 2]), array([3, 4]), array([5, 6])]\n",
            "4번 분할 : [array([1, 2]), array([3, 4]), array([5]), array([6])]\n",
            "4번 분할 첫 번째 배열 : [1 2]\n",
            "4번 분할 두 번째 배열 : [3 4]\n",
            "\n",
            "2차원 배열 : \n",
            "[[1 2 3]\n",
            " [4 5 6]]\n",
            "3번 분할 : \n",
            "[array([[1, 2, 3]]), array([[4, 5, 6]]), array([], shape=(0, 3), dtype=int64)]\n",
            "열 분할 : \n",
            "[array([[ 1],\n",
            "       [ 4],\n",
            "       [ 7],\n",
            "       [10],\n",
            "       [13],\n",
            "       [16]]), array([[ 2],\n",
            "       [ 5],\n",
            "       [ 8],\n",
            "       [11],\n",
            "       [14],\n",
            "       [17]]), array([[ 3],\n",
            "       [ 6],\n",
            "       [ 9],\n",
            "       [12],\n",
            "       [15],\n",
            "       [18]])]\n",
            "[array([[ 1],\n",
            "       [ 4],\n",
            "       [ 7],\n",
            "       [10],\n",
            "       [13],\n",
            "       [16]]), array([[ 2],\n",
            "       [ 5],\n",
            "       [ 8],\n",
            "       [11],\n",
            "       [14],\n",
            "       [17]]), array([[ 3],\n",
            "       [ 6],\n",
            "       [ 9],\n",
            "       [12],\n",
            "       [15],\n",
            "       [18]])]\n"
          ]
        }
      ]
    },
    {
      "cell_type": "markdown",
      "source": [
        "# Array Search\n"
      ],
      "metadata": {
        "id": "TUXE_mGIwEbg"
      }
    },
    {
      "cell_type": "code",
      "source": [
        "#배열 검색\n",
        "\n",
        "#1차원 배열\n",
        "arr = Arr.arr1()\n",
        "\n",
        "#값이 4인 인덱스\n",
        "x = np.where(arr == 4)\n",
        "print(f\"값이 4인 위치 : {x}\")\n",
        "\n",
        "#튜플 반환\n",
        "x = np.where(arr%2 == 0)\n",
        "print(f\"짝수 위치 : {x}\")\n",
        "\n",
        "#순서 정렬 검색\n",
        "x = np.searchsorted(arr, 3)\n",
        "print(f\"숫자 3은 3번째에 삽입되어야 정렬이 되므로 인덱스 값은 : {x}\")\n",
        "\n",
        "#오른쪽부터 시작\n",
        "x = np.searchsorted(arr, 3, side='right')\n",
        "print(f\"오른쪽부터 시작 : {x}\")\n",
        "\n",
        "#여러 값\n",
        "x = np.searchsorted(arr, [2, 4, 6])\n",
        "print(f\"여러 값 : {x}\")"
      ],
      "metadata": {
        "colab": {
          "base_uri": "https://localhost:8080/"
        },
        "id": "krchpQGawGwh",
        "outputId": "05387be7-ec27-46bf-dfc7-ed3eacea6b9e"
      },
      "execution_count": 34,
      "outputs": [
        {
          "output_type": "stream",
          "name": "stdout",
          "text": [
            "\n",
            "1차원 배열 : [1 2 3 4 5 6]\n",
            "값이 4인 위치 : (array([3]),)\n",
            "짝수 위치 : (array([1, 3, 5]),)\n",
            "숫자 3은 3번째에 삽입되어야 정렬이 되므로 인덱스 값은 : 2\n",
            "오른쪽부터 시작 : 3\n",
            "여러 값 : [1 3 5]\n"
          ]
        }
      ]
    },
    {
      "cell_type": "markdown",
      "source": [
        "# Array Sort"
      ],
      "metadata": {
        "id": "EknFTudGwHZm"
      }
    },
    {
      "cell_type": "code",
      "source": [
        "#정렬 배열\n",
        "\n",
        "#1차원 배열\n",
        "arr = np.array([3, 2, 6, 1, 2])\n",
        "print(f\"1차원 배열 : {arr}\")\n",
        "print(f\"배열 정렬 : {np.sort(arr)}\")\n",
        "\n",
        "#2차원 배열\n",
        "arr = np.array([[3, 2, 4], [5, 0, 1]])\n",
        "print(f\"\\n2차원 배열 : \\n{arr}\")\n",
        "print(f\"배열 정렬 : \\n{np.sort(arr)}\")\n",
        "\n",
        "#문자열 배열\n",
        "arr = np.array(['banana', 'cherry', 'apple'])\n",
        "print(f\"\\n문자열 배열 : {arr}\")\n",
        "#알파벳순으로 정렬\n",
        "print(f\"알파벳순으로 정렬 : {np.sort(arr)}\")\n",
        "\n",
        "#부울 배열\n",
        "arr = np.array([True, False, True])\n",
        "print(f\"\\n부울 배열 : {arr}\")\n",
        "print(f\"부울 배열 정렬 : {np.sort(arr)}\")\n"
      ],
      "metadata": {
        "colab": {
          "base_uri": "https://localhost:8080/"
        },
        "id": "TFYzEEjqwJIo",
        "outputId": "be8a83c9-b4f6-4488-bba2-d3acbc2aeedf"
      },
      "execution_count": 35,
      "outputs": [
        {
          "output_type": "stream",
          "name": "stdout",
          "text": [
            "1차원 배열 : [3 2 6 1 2]\n",
            "배열 정렬 : [1 2 2 3 6]\n",
            "\n",
            "2차원 배열 : \n",
            "[[3 2 4]\n",
            " [5 0 1]]\n",
            "배열 정렬 : \n",
            "[[2 3 4]\n",
            " [0 1 5]]\n",
            "\n",
            "문자열 배열 : ['banana' 'cherry' 'apple']\n",
            "알파벳순으로 정렬 : ['apple' 'banana' 'cherry']\n",
            "\n",
            "부울 배열 : [ True False  True]\n",
            "부울 배열 정렬 : [False  True  True]\n"
          ]
        }
      ]
    },
    {
      "cell_type": "markdown",
      "source": [
        "# Array Filter"
      ],
      "metadata": {
        "id": "7hU-LCpawJjC"
      }
    },
    {
      "cell_type": "code",
      "source": [
        "#배열 필터링\n",
        "\n",
        "#1차원 배열\n",
        "arr = Arr.arr1()\n",
        "#부울 배열\n",
        "x = [True, False, True, False, True, False]\n",
        "print(f\"부울 배열 : {x}\")\n",
        "\n",
        "#필터링\n",
        "newarr = arr[x]\n",
        "print(f\"배열 필터링 : {newarr}\")\n",
        "\n",
        "#필터 배열\n",
        "filter_arr = []\n",
        "\n",
        "for element in arr:\n",
        "  if element > 4:\n",
        "    filter_arr.append(True)\n",
        "  else:\n",
        "    filter_arr.append(False)\n",
        "\n",
        "\n",
        "arr = Arr.arr1()\n",
        "print(f\"4보다 큰 부울 배열 : {filter_arr}\")\n",
        "\n",
        "newarr = arr[filter_arr]\n",
        "\n",
        "print(f\"4보다 큰 값 필터 배열 : {newarr}\")\n",
        "\n",
        "#직업 필터\n",
        "filter_arr = arr > 3\n",
        "newarr = arr[filter_arr]\n",
        "print(f\"\\n3보다 큰 값 직접필터 배열 : {newarr}\")"
      ],
      "metadata": {
        "colab": {
          "base_uri": "https://localhost:8080/"
        },
        "id": "Tr5mmXfTwMZL",
        "outputId": "0247cd08-78df-4d6a-b801-28a382053c83"
      },
      "execution_count": 36,
      "outputs": [
        {
          "output_type": "stream",
          "name": "stdout",
          "text": [
            "\n",
            "1차원 배열 : [1 2 3 4 5 6]\n",
            "부울 배열 : [True, False, True, False, True, False]\n",
            "배열 필터링 : [1 3 5]\n",
            "\n",
            "1차원 배열 : [1 2 3 4 5 6]\n",
            "4보다 큰 부울 배열 : [False, False, False, False, True, True]\n",
            "4보다 큰 값 필터 배열 : [5 6]\n",
            "\n",
            "3보다 큰 값 직접필터 배열 : [4 5 6]\n"
          ]
        }
      ]
    }
  ]
}